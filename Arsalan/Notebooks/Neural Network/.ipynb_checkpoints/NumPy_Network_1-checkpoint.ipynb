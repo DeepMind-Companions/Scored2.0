{
 "cells": [
  {
   "cell_type": "markdown",
   "id": "3aa5617f",
   "metadata": {},
   "source": [
    "# Numpy Network 1\n",
    "\n",
    "---\n",
    "\n",
    "### This is the first neural network I will be implementing\n",
    "\n",
    "- I will be using NumPy to implement this neural network.\n",
    "- This is the first numpy network I will be implementing without any guidance from a course etc.\n",
    "- The initial architecture has not been decided but I will once I implement it.\n",
    "- I am aiming for a NN of 50 - 20 - 10 - 5 - 1"
   ]
  },
  {
   "cell_type": "code",
   "execution_count": 2,
   "id": "216acc4d",
   "metadata": {},
   "outputs": [],
   "source": [
    "import numpy as np\n",
    "import pandas as pd\n",
    "from pathlib import Path\n",
    "current_dir = Path.cwd()\n",
    "parent_dir = current_dir.parent.parent\n"
   ]
  },
  {
   "cell_type": "markdown",
   "id": "b8535fca",
   "metadata": {},
   "source": [
    "### We will start by importing our data"
   ]
  },
  {
   "cell_type": "code",
   "execution_count": 3,
   "id": "597a5d70",
   "metadata": {},
   "outputs": [
    {
     "data": {
      "text/plain": [
       "(285670, 445)"
      ]
     },
     "execution_count": 3,
     "metadata": {},
     "output_type": "execute_result"
    }
   ],
   "source": [
    "final_data = pd.read_pickle(parent_dir / 'Resources' / 'final_data.pkl')\n",
    "final_data.shape"
   ]
  },
  {
   "cell_type": "markdown",
   "id": "b1f4607b",
   "metadata": {},
   "source": [
    "NumPy Implementation of final_data"
   ]
  },
  {
   "cell_type": "code",
   "execution_count": 4,
   "id": "cec2944e",
   "metadata": {},
   "outputs": [
    {
     "data": {
      "text/plain": [
       "(445, 285670)"
      ]
     },
     "execution_count": 4,
     "metadata": {},
     "output_type": "execute_result"
    }
   ],
   "source": [
    "final_data_numpy = final_data.to_numpy().T\n",
    "final_data_numpy.shape"
   ]
  },
  {
   "cell_type": "markdown",
   "id": "07e1db67",
   "metadata": {},
   "source": [
    "### Time to define a few important variables and functions"
   ]
  },
  {
   "cell_type": "code",
   "execution_count": 5,
   "id": "1d731d8a",
   "metadata": {},
   "outputs": [],
   "source": [
    "input_size = 445\n",
    "hidden_layers = 4\n",
    "output_size = 1"
   ]
  },
  {
   "cell_type": "code",
   "execution_count": 6,
   "id": "9c002856",
   "metadata": {},
   "outputs": [],
   "source": [
    "def relu(num):\n",
    "    return num * (num > 0)"
   ]
  },
  {
   "cell_type": "markdown",
   "id": "ba34db9b",
   "metadata": {},
   "source": [
    "### Let's define a class for a hidden layer"
   ]
  },
  {
   "cell_type": "code",
   "execution_count": 7,
   "id": "15be9ecc",
   "metadata": {},
   "outputs": [],
   "source": [
    "class hidden_layer:\n",
    "    \n",
    "    def __init__(self, input_size, units):\n",
    "        self.units = units\n",
    "        self.weights = np.random.randn(units, input_size)\n",
    "        self.bias = np.zeros((units, 1))\n",
    "        self.m = self.inp.shape[1]\n",
    "    \n",
    "    def __call__(self, inp):\n",
    "        self.inp = inp\n",
    "        self.y = np.dot(self.weights, inp) + self.bias\n",
    "        self.z = relu(self.y)\n",
    "        \n",
    "    def back_prop(self, dz):\n",
    "        dy = dz * (self.y > 0)\n",
    "        self.dy = dy\n",
    "        self.dW = (1/self.m) * np.dot(dy, self.x.T)\n",
    "        self.db = (1/self.m) * np.sum(dy, axis = 1, keepdims = True)\n",
    "        self.dx = np.dot(W.T, dy)\n",
    "        return self.dx\n",
    "        "
   ]
  },
  {
   "cell_type": "code",
   "execution_count": 9,
   "id": "d0852b49",
   "metadata": {},
   "outputs": [],
   "source": [
    "class final_layer:\n",
    "    def __init__(self, input_size, units):\n",
    "        self.units = units\n",
    "        self.weights = np.random.randn(units, input_size)\n",
    "        self.bias = np.zeros((units, 1))\n",
    "        self.m = self.inp.shape[1]\n",
    "        \n",
    "    def __call__(self, inp):\n",
    "        self.x = inp\n",
    "        self.z = np.dot(self.weights, inp) + self.bias\n",
    "    \n",
    "    def back_prop(self, dy):\n",
    "        self.dW = (1/self.m) * np.dot(dy, self.x.T)\n",
    "        self.db = (1/self.m) * np.sum(dy, axis = 1, keepdims = True)\n",
    "        self.dx = np.dot(W.T, dy)\n",
    "        return self.dx\n"
   ]
  },
  {
   "cell_type": "code",
   "execution_count": 10,
   "id": "da896d08",
   "metadata": {},
   "outputs": [],
   "source": [
    "class sequence:\n",
    "    def __init__(self, layer_list):\n",
    "        self.layers = layer_list\n",
    "    \n",
    "    def forward_propagate(self, inp):\n",
    "        y = inp\n",
    "        for layer in self.layers:\n",
    "            y = layer(y)\n",
    "        self.y = y\n",
    "        return y\n",
    "    \n",
    "    def calculate_loss(self, y_true):\n",
    "        mse = np.mean((y_true - self.y)**2)\n",
    "        self.loss = mse\n",
    "        return mse\n",
    "    \n",
    "    def back_propagate(self, learning_rate):\n",
    "        dz = 2*(y_true - self.y)\n",
    "        for layer in self.layers[::-1]:\n",
    "            dz = layer.back_prop(dz)\n",
    "    \n",
    "    "
   ]
  },
  {
   "cell_type": "code",
   "execution_count": null,
   "id": "18552e1a",
   "metadata": {},
   "outputs": [],
   "source": []
  }
 ],
 "metadata": {
  "kernelspec": {
   "display_name": "Python 3",
   "language": "python",
   "name": "python3"
  },
  "language_info": {
   "codemirror_mode": {
    "name": "ipython",
    "version": 3
   },
   "file_extension": ".py",
   "mimetype": "text/x-python",
   "name": "python",
   "nbconvert_exporter": "python",
   "pygments_lexer": "ipython3",
   "version": "3.8.8"
  }
 },
 "nbformat": 4,
 "nbformat_minor": 5
}
