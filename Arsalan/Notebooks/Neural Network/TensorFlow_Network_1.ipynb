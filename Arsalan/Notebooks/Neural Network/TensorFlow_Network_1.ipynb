{
 "cells": [
  {
   "cell_type": "markdown",
   "id": "fa3e69d3",
   "metadata": {},
   "source": [
    "# Tensorflow Network 1\n",
    "\n",
    "---\n",
    "\n",
    "### This is the first neural network I implement in tensor flow\n",
    "\n",
    "- Tensorflow will be used\n",
    "- Architecture I am aiming for is 100-50-20-10-5-1"
   ]
  },
  {
   "cell_type": "code",
   "execution_count": 7,
   "id": "d4307e9d",
   "metadata": {},
   "outputs": [],
   "source": [
    "import tensorflow as tf\n",
    "import tensorflow.keras.layers as tfl\n",
    "import pandas as pd\n",
    "import numpy as np\n",
    "from pathlib import Path\n",
    "import matplotlib.pyplot as plt\n",
    "current_dir = Path.cwd()\n",
    "parent_dir = current_dir.parent.parent\n",
    "\n",
    "from tensorflow.keras.regularizers import l2"
   ]
  },
  {
   "cell_type": "markdown",
   "id": "ad59bbae",
   "metadata": {},
   "source": [
    "### Importing the data"
   ]
  },
  {
   "cell_type": "code",
   "execution_count": 8,
   "id": "34280eaf",
   "metadata": {},
   "outputs": [
    {
     "data": {
      "text/plain": [
       "(254696, 446)"
      ]
     },
     "execution_count": 8,
     "metadata": {},
     "output_type": "execute_result"
    }
   ],
   "source": [
    "dev_data = pd.read_pickle(parent_dir/\"Resources\"/\"FinalData\"/\"dev_data.pkl\")\n",
    "test_data = pd.read_pickle(parent_dir/\"Resources\"/\"FinalData\"/\"test_data.pkl\")\n",
    "training_data = pd.read_pickle(parent_dir/\"Resources\"/\"FinalData\"/\"training_data.pkl\")\n",
    "training_data.shape"
   ]
  },
  {
   "cell_type": "code",
   "execution_count": 9,
   "id": "44c96c1a",
   "metadata": {},
   "outputs": [
    {
     "name": "stderr",
     "output_type": "stream",
     "text": [
      "C:\\Users\\HOME\\anaconda3\\lib\\site-packages\\pandas\\core\\generic.py:4153: PerformanceWarning: dropping on a non-lexsorted multi-index without a level parameter may impact performance.\n",
      "  obj = obj._drop_axis(labels, axis, level=level, errors=errors)\n"
     ]
    }
   ],
   "source": [
    "training_data_x = training_data.drop(columns = ['Final Output'])\n",
    "training_data_y = training_data['Final Output']\n",
    "training_data_x = training_data_x.reset_index(['Over', 'Ball'])\n",
    "\n",
    "dev_data_x = dev_data.drop(columns = ['Final Output'])\n",
    "dev_data_y = dev_data['Final Output']\n",
    "dev_data_x = dev_data_x.reset_index(['Over', 'Ball'])"
   ]
  },
  {
   "cell_type": "code",
   "execution_count": 10,
   "id": "877337cd",
   "metadata": {},
   "outputs": [
    {
     "name": "stdout",
     "output_type": "stream",
     "text": [
      "(254696, 447)\n",
      "(254696, 1)\n",
      "(23552, 447)\n",
      "(23552, 1)\n"
     ]
    }
   ],
   "source": [
    "print(training_data_x.shape)\n",
    "print(training_data_y.shape)\n",
    "print(dev_data_x.shape)\n",
    "print(dev_data_y.shape)"
   ]
  },
  {
   "cell_type": "code",
   "execution_count": 11,
   "id": "a1b3c991",
   "metadata": {},
   "outputs": [
    {
     "name": "stdout",
     "output_type": "stream",
     "text": [
      "(447, 254696)\n",
      "(1, 254696)\n",
      "(447, 23552)\n",
      "(1, 23552)\n"
     ]
    }
   ],
   "source": [
    "train_x = training_data_x.to_numpy().T\n",
    "train_y = training_data_y.to_numpy().T\n",
    "dev_x = dev_data_x.to_numpy().T\n",
    "dev_y = dev_data_y.to_numpy().T\n",
    "print(train_x.shape)\n",
    "print(train_y.shape)\n",
    "print(dev_x.shape)\n",
    "print(dev_y.shape)"
   ]
  },
  {
   "cell_type": "code",
   "execution_count": 27,
   "id": "f7771734",
   "metadata": {},
   "outputs": [],
   "source": [
    "train_x_tens = tf.convert_to_tensor(train_x.T)\n",
    "train_y_tens = tf.convert_to_tensor(train_y.T)\n",
    "dev_x_tens = tf.convert_to_tensor(dev_x.T)\n",
    "dev_y_tens = tf.convert_to_tensor(dev_y.T)"
   ]
  },
  {
   "cell_type": "markdown",
   "id": "3f62cd6a",
   "metadata": {},
   "source": [
    "### Some Important Functions"
   ]
  },
  {
   "cell_type": "code",
   "execution_count": 16,
   "id": "aed8dfb8",
   "metadata": {},
   "outputs": [],
   "source": [
    "# This class defines the accuracy\n",
    "\n",
    "class CountAroundRange(tf.keras.metrics.Metric):\n",
    "    def __init__(self, range_tolerance, name='count_around_range', **kwargs):\n",
    "        super(CountAroundRange, self).__init__(name=name, **kwargs)\n",
    "        self.range_tolerance = range_tolerance\n",
    "        self.total_samples = self.add_weight(name='total_samples', initializer='zeros')\n",
    "        self.true_within_range = self.add_weight(name='true_within_range', initializer='zeros')\n",
    "\n",
    "    def update_state(self, y_true, y_pred, sample_weight=None):\n",
    "        y_true = tf.cast(y_true, tf.float32)\n",
    "        y_pred = tf.cast(y_pred, tf.float32)\n",
    "        in_range = tf.math.abs(y_true - y_pred) <= self.range_tolerance\n",
    "        in_range = tf.cast(in_range, tf.float32)\n",
    "\n",
    "        self.total_samples.assign_add(tf.cast(tf.shape(in_range)[0], tf.float32))\n",
    "        self.true_within_range.assign_add(tf.reduce_sum(in_range))\n",
    "\n",
    "    def result(self):\n",
    "        return self.true_within_range / self.total_samples\n",
    "    \n",
    "precentage_in_range = CountAroundRange(range_tolerance = 20)"
   ]
  },
  {
   "cell_type": "markdown",
   "id": "29258184",
   "metadata": {},
   "source": [
    "## Defining and training the model"
   ]
  },
  {
   "cell_type": "code",
   "execution_count": 96,
   "id": "b8d41776",
   "metadata": {},
   "outputs": [],
   "source": [
    "model = tf.keras.Sequential([\n",
    "    tfl.Input(shape = (447,)),\n",
    "    #tfl.Dense(units = 100, activation = 'relu', kernel_regularizer=l2(0.01)),\n",
    "    # tfl.Dense(units = 50, activation = 'relu', kernel_regularizer=l2(0.01)),\n",
    "    #tfl.Dense(units = 20, activation = 'relu', kernel_regularizer=l2(0.01)),\n",
    "    tfl.Dense(units = 10, activation = 'relu', kernel_regularizer=l2(0.01)),\n",
    "    tfl.Dropout(0.2),\n",
    "    tfl.Dense(units = 5, activation = 'relu', kernel_regularizer=l2(0.01)),\n",
    "    tfl.Dense(units = 1, activation = 'linear')\n",
    "])"
   ]
  },
  {
   "cell_type": "code",
   "execution_count": 97,
   "id": "87077b6d",
   "metadata": {},
   "outputs": [],
   "source": [
    "model.compile(optimizer = 'adam', loss = 'MeanSquaredError', metrics = [precentage_in_range])"
   ]
  },
  {
   "cell_type": "code",
   "execution_count": 104,
   "id": "ca91581c",
   "metadata": {},
   "outputs": [
    {
     "name": "stdout",
     "output_type": "stream",
     "text": [
      "Epoch 1/10\n",
      "3980/3980 [==============================] - 2s 604us/step - loss: 774.5097 - count_around_range: 0.6167 - val_loss: 1221.2375 - val_count_around_range: 0.4004\n",
      "Epoch 2/10\n",
      "3980/3980 [==============================] - 2s 595us/step - loss: 752.8065 - count_around_range: 0.6236 - val_loss: 1416.1129 - val_count_around_range: 0.3355\n",
      "Epoch 3/10\n",
      "3980/3980 [==============================] - 2s 589us/step - loss: 738.4538 - count_around_range: 0.6287 - val_loss: 1889.5503 - val_count_around_range: 0.2289\n",
      "Epoch 4/10\n",
      "3980/3980 [==============================] - 2s 604us/step - loss: 718.6586 - count_around_range: 0.6332 - val_loss: 1362.2097 - val_count_around_range: 0.3563\n",
      "Epoch 5/10\n",
      "3980/3980 [==============================] - 2s 583us/step - loss: 701.3289 - count_around_range: 0.6355 - val_loss: 1775.7062 - val_count_around_range: 0.2447\n",
      "Epoch 6/10\n",
      "3980/3980 [==============================] - 2s 586us/step - loss: 684.5414 - count_around_range: 0.6391 - val_loss: 1651.3547 - val_count_around_range: 0.2683\n",
      "Epoch 7/10\n",
      "3980/3980 [==============================] - 2s 593us/step - loss: 664.8701 - count_around_range: 0.6424 - val_loss: 1364.8157 - val_count_around_range: 0.3418\n",
      "Epoch 8/10\n",
      "3980/3980 [==============================] - 2s 604us/step - loss: 651.9766 - count_around_range: 0.6431 - val_loss: 1130.5548 - val_count_around_range: 0.4322\n",
      "Epoch 9/10\n",
      "3980/3980 [==============================] - 2s 587us/step - loss: 630.7778 - count_around_range: 0.6472 - val_loss: 1262.0973 - val_count_around_range: 0.3802\n",
      "Epoch 10/10\n",
      "3980/3980 [==============================] - 2s 603us/step - loss: 620.2217 - count_around_range: 0.6481 - val_loss: 1329.9984 - val_count_around_range: 0.3644\n"
     ]
    }
   ],
   "source": [
    "num_epochs = 10\n",
    "batch_size = 64\n",
    "\n",
    "history = model.fit(train_x_tens, train_y_tens, epochs = num_epochs, batch_size =batch_size, validation_data = (dev_x_tens, dev_y_tens))"
   ]
  },
  {
   "cell_type": "code",
   "execution_count": 105,
   "id": "a59ca17f",
   "metadata": {},
   "outputs": [
    {
     "data": {
      "image/png": "[encoded data removed]",
      "text/plain": [
       "<Figure size 720x360 with 1 Axes>"
      ]
     },
     "metadata": {
      "needs_background": "light"
     },
     "output_type": "display_data"
    }
   ],
   "source": [
    "# Plot training loss and validation loss\n",
    "plt.figure(figsize=(10, 5))\n",
    "plt.plot(history.history['loss'], label='Training Loss')\n",
    "plt.plot(history.history['val_loss'], label='Validation Loss')\n",
    "plt.title('Training and Validation Loss')\n",
    "plt.xlabel('Epoch')\n",
    "plt.ylabel('Loss')\n",
    "plt.legend()\n",
    "plt.show()"
   ]
  },
  {
   "cell_type": "code",
   "execution_count": 106,
   "id": "9230c1f0",
   "metadata": {},
   "outputs": [
    {
     "name": "stdout",
     "output_type": "stream",
     "text": [
      "736/736 [==============================] - 0s 643us/step - loss: 1329.9979 - count_around_range: 0.3644\n",
      "1329.9979248046875\n",
      "0.3644276559352875\n",
      "---------\n",
      "7960/7960 [==============================] - 5s 653us/step - loss: 1104.5559 - count_around_range: 0.3907\n",
      "1104.555908203125\n",
      "0.39068928360939026\n"
     ]
    }
   ],
   "source": [
    "dev_loss, dev_accuracy = model.evaluate(dev_x_tens, dev_y_tens)\n",
    "\n",
    "print(dev_loss)\n",
    "print(dev_accuracy)\n",
    "print (\"---------\")\n",
    "train_loss, train_accuracy = model.evaluate(train_x_tens, train_y_tens)\n",
    "print(train_loss)\n",
    "print(train_accuracy)"
   ]
  },
  {
   "cell_type": "markdown",
   "id": "95e2016c",
   "metadata": {},
   "source": [
    "#### Getting Sep overs Dev Test"
   ]
  },
  {
   "cell_type": "code",
   "execution_count": 107,
   "id": "0dbba031",
   "metadata": {},
   "outputs": [
    {
     "name": "stdout",
     "output_type": "stream",
     "text": [
      "(3910, 447)\n",
      "(3910, 1)\n"
     ]
    }
   ],
   "source": [
    "thres_overs = 15\n",
    "\n",
    "mask = (dev_data_x['Over'] > thres_overs).to_numpy()\n",
    "dev_x = dev_data_x.to_numpy()\n",
    "dev_y = dev_data_y.to_numpy()\n",
    "\n",
    "prediction_x = tf.convert_to_tensor(dev_x[mask])\n",
    "prediction_y = tf.convert_to_tensor(dev_y[mask])\n",
    "print(prediction_x.shape)\n",
    "print(prediction_y.shape)"
   ]
  },
  {
   "cell_type": "code",
   "execution_count": 108,
   "id": "71c798a6",
   "metadata": {},
   "outputs": [
    {
     "name": "stdout",
     "output_type": "stream",
     "text": [
      "123/123 [==============================] - 0s 691us/step - loss: 831.6024 - count_around_range: 0.4125\n"
     ]
    },
    {
     "data": {
      "text/plain": [
       "0.4125319719314575"
      ]
     },
     "execution_count": 108,
     "metadata": {},
     "output_type": "execute_result"
    }
   ],
   "source": [
    "prediction_loss, prediction_accuracy = model.evaluate(prediction_x, prediction_y)\n",
    "prediction_accuracy"
   ]
  },
  {
   "cell_type": "code",
   "execution_count": 109,
   "id": "5398f18f",
   "metadata": {},
   "outputs": [
    {
     "data": {
      "image/png": "[encoded data removed]",
      "text/plain": [
       "<Figure size 432x288 with 1 Axes>"
      ]
     },
     "metadata": {
      "needs_background": "light"
     },
     "output_type": "display_data"
    }
   ],
   "source": [
    "# Plot training & validation loss values\n",
    "plt.subplot(1, 2, 2)\n",
    "plt.plot(history.history['loss'])\n",
    "plt.title('Model Loss')\n",
    "plt.xlabel('Epoch')\n",
    "plt.ylabel('Loss')\n",
    "plt.legend(['Train', 'Validation'], loc='upper left')\n",
    "\n",
    "plt.tight_layout()\n",
    "plt.show()"
   ]
  },
  {
   "cell_type": "code",
   "execution_count": null,
   "id": "6e15b730",
   "metadata": {},
   "outputs": [],
   "source": []
  }
 ],
 "metadata": {
  "kernelspec": {
   "display_name": "Python 3",
   "language": "python",
   "name": "python3"
  },
  "language_info": {
   "codemirror_mode": {
    "name": "ipython",
    "version": 3
   },
   "file_extension": ".py",
   "mimetype": "text/x-python",
   "name": "python",
   "nbconvert_exporter": "python",
   "pygments_lexer": "ipython3",
   "version": "3.8.8"
  }
 },
 "nbformat": 4,
 "nbformat_minor": 5
}
