{
 "cells": [
  {
   "cell_type": "markdown",
   "id": "ab70c545-fd1c-464a-bdcb-d18d8e612af8",
   "metadata": {},
   "source": [
    "# T20 Cricket Final Score Prediction using Neural Networks\n",
    "This notebook focuses on making a Machine Learning Model that is able to make Final Score Predictions in T20 format.\n",
    "\n",
    "## Packages\n",
    "The first step is to import the relevant packages."
   ]
  },
  {
   "cell_type": "code",
   "execution_count": 118,
   "id": "ca21af5c",
   "metadata": {},
   "outputs": [],
   "source": [
    "import numpy as np\n",
    "import pandas as pd\n",
    "import matplotlib.pyplot as plt\n",
    "from sklearn import preprocessing\n",
    "from sklearn.metrics import mean_squared_error\n",
    "import tensorflow as tf\n",
    "np.random.seed(42)\n",
    "%matplotlib inline"
   ]
  },
  {
   "cell_type": "markdown",
   "id": "2a931998-db04-4a5a-98d9-9534c29872a8",
   "metadata": {},
   "source": [
    "## Activation Functions\n",
    "The next step is to define the activation functions that we will be using in the neural network"
   ]
  },
  {
   "cell_type": "code",
   "execution_count": 2,
   "id": "a2cd848c",
   "metadata": {},
   "outputs": [],
   "source": [
    "def sigmoid(Z):\n",
    "    return 1 / (1 + np.exp(-Z)) \n",
    "        \n",
    "def relu(Z):\n",
    "    return np.maximum(0, Z)\n",
    "\n",
    "def tanh(Z):\n",
    "    return np.tanh(Z)\n",
    "    \n",
    "def softmax(Z):\n",
    "    return np.exp(Z) / np.sum(np.exp(Z), axis = 0, keepdims = True)\n",
    "    "
   ]
  },
  {
   "cell_type": "markdown",
   "id": "1cae47bb-a5be-4ac9-b070-517a919d5984",
   "metadata": {},
   "source": [
    "## Neural Network\n",
    "Now we have to make the neural network. Here, I have chosen an OOP based approach, so that I can keep my models separate, so that the parameters of one model don't interfere with the parameters of another model. It also makes it easier to manage them."
   ]
  },
  {
   "cell_type": "code",
   "execution_count": 162,
   "id": "22becf3e",
   "metadata": {},
   "outputs": [],
   "source": [
    "class Neural_network():\n",
    "    '''\n",
    "    Class for a neural network.\n",
    "    '''\n",
    "    \n",
    "    def __init__(self, layer_sizes, layer_activations, learning_rate, epochs, dropout = 1, beta1 = 0.9, beta2 = 0.999, \n",
    "                 epsilon = 1e-8):\n",
    "        '''\n",
    "        initialize the neural network.\n",
    "        '''\n",
    "        self.layer_sizes = layer_sizes\n",
    "        self.layer_activations = layer_activations\n",
    "        self.learning_rate = learning_rate\n",
    "        self.dropout = dropout\n",
    "        self.epochs = epochs\n",
    "        self.beta1 = beta1\n",
    "        self.beta2 = beta2\n",
    "        self.epsilon = epsilon\n",
    "        self.accuracy = 20\n",
    "        self.train_costs = []\n",
    "        self.dev_costs = []\n",
    "        \n",
    "        # Initialize parameters of each layer\n",
    "        self.params = {}\n",
    "        for i in range(1, len(layer_sizes)):\n",
    "            self.params['W' + str(i)] = np.random.randn(layer_sizes[i], layer_sizes[i - 1]) * 0.01\n",
    "            self.params['b' + str(i)] = np.zeros((layer_sizes[i], 1))\n",
    "            \n",
    "        # Initialize velocity and stuff for Adam\n",
    "        self.v = {}\n",
    "        self.s = {}\n",
    "        \n",
    "        for i in range(1, len(layer_sizes)):\n",
    "\n",
    "            self.v[\"dW\" + str(i)] = np.zeros(self.params[\"W\" + str(i)].shape)\n",
    "            self.v[\"db\" + str(i)] = np.zeros(self.params[\"b\" + str(i)].shape)\n",
    "            self.s[\"dW\" + str(i)] = np.zeros(self.params[\"W\" + str(i)].shape)\n",
    "            self.s[\"db\" + str(i)] = np.zeros(self.params[\"b\" + str(i)].shape)\n",
    "            \n",
    "            \n",
    "    def forward_prop(self, X, dropout = False):\n",
    "        '''\n",
    "        Performs forward propagation for an iteration.\n",
    "        '''\n",
    "        \n",
    "        A_prev = X\n",
    "        Z = [0]\n",
    "        A = [A_prev]\n",
    "        self.D = []\n",
    "        \n",
    "        for i in range(1, len(self.layer_sizes)):\n",
    "            \n",
    "            Zi = np.dot(self.params['W' + str(i)], A_prev) + self.params['b' + str(i)]\n",
    "            if self.layer_activations[i - 1] == 'sigmoid':\n",
    "                A_prev = sigmoid(Zi)\n",
    "            elif self.layer_activations[i - 1] == 'relu':\n",
    "                A_prev = relu(Zi)\n",
    "            elif self.layer_activations[i - 1] == 'tanh':\n",
    "                A_prev = tanh(Zi)\n",
    "            elif self.layer_activations[i - 1] == 'linear':\n",
    "                A_prev = Zi\n",
    "            elif self.layer_activations[i - 1] == 'softmax':\n",
    "                A_prev = softmax(Zi)\n",
    "\n",
    "            # Don't apply dropout on output layer\n",
    "            if i != len(self.layer_sizes) - 1 and dropout:\n",
    "            # Apply dropout \n",
    "                Di = np.random.rand(A_prev.shape[0], A_prev.shape[1])\n",
    "                Di = (Di < self.dropout).astype(int)\n",
    "                A_prev = A_prev * Di\n",
    "                A_prev = A_prev / self.dropout\n",
    "                self.D.append(Di)\n",
    "            \n",
    "            A.append(A_prev)\n",
    "            Z.append(Zi)\n",
    "\n",
    "        return A, Z\n",
    "    \n",
    "    \n",
    "    def compute_cost(self, Y, Y_hat):\n",
    "        '''\n",
    "        Computes the cost of an iteration\n",
    "        '''\n",
    "        \n",
    "        m = Y.shape[1]\n",
    "        \n",
    "        if self.layer_activations[-1] == 'sigmoid':\n",
    "            cost = - np.sum(Y * np.log(Y_hat) + (1 - Y) * np.log(1 - Y_hat)) / m \n",
    "        elif self.layer_activations[-1] == 'linear':\n",
    "            cost = np.sum((Y_hat - Y) ** 2) / (2 * m)\n",
    "        elif self.layer_activations[-1] == 'softmax':\n",
    "            cost = - np.sum(Y * np.log(Y_hat)) / m\n",
    "        \n",
    "        return np.squeeze(cost)\n",
    "    \n",
    "    \n",
    "    def back_prop(self, X, Y, A, Z):\n",
    "        m = X.shape[1]\n",
    "        grads = {}\n",
    "        L = len(self.layer_sizes) - 1\n",
    "        \n",
    "        if self.layer_activations[-1] == 'sigmoid':\n",
    "            dAL = - (np.divide(Y, A[-1]) - np.divide(1 - Y, 1 - A[-1]))\n",
    "            dZL = A[-1] * (1 - A[-1]) * dAL\n",
    "        elif self.layer_activations[-1] == 'linear':\n",
    "            dAL = A[-1] - Y\n",
    "            dZL = dAL\n",
    "        elif self.layer_activations[-1] == 'softmax':\n",
    "            dAL = - Y / A[-1]\n",
    "            \n",
    "        A_prev = A[-2]\n",
    "        \n",
    "        grads['dW' + str(L)] = np.dot(dZL, A_prev.T) / m\n",
    "        grads['db' + str(L)] = np.sum(dZL, axis = 1, keepdims = True) / m\n",
    "        dA_prev = np.dot(self.params['W' + str(L)].T, dZL)\n",
    "        \n",
    "        for i in reversed(range(L - 1)):\n",
    "\n",
    "            dA_prev = dA_prev * self.D[i]\n",
    "            dA_prev = dA_prev / self.dropout\n",
    "            Zi = Z[i + 1]\n",
    "            if self.layer_activations[i] == 'sigmoid':\n",
    "                dZl = A_prev * (1 - A_prev) * dA_prev\n",
    "            elif self.layer_activations[i] == 'relu': \n",
    "                dZl = np.array(dA_prev, copy=True)\n",
    "                dZl[Zi <= 0] = 0\n",
    "            elif self.layer_activations[i] == 'tanh':\n",
    "                dZl = (1 - A_prev) * dA_prev\n",
    "\n",
    "            A_prev = A[i]\n",
    "            \n",
    "            grads['dW' + str(i + 1)] = np.dot(dZl, A_prev.T) / m\n",
    "            grads['db' + str(i + 1)] = np.sum(dZl, axis=1, keepdims=True) / m\n",
    "            dA_prev = np.dot(self.params['W' + str(i + 1)].T, dZl)\n",
    "            \n",
    "        return grads\n",
    "    \n",
    "\n",
    "    def fit(self, X_train, Y_train, X_dev, Y_dev):\n",
    "        train_cost = 0\n",
    "        dev_cost = 0\n",
    "        for epoch in range(self.epochs):\n",
    "            A, Z = self.forward_prop(X_train, True)\n",
    "            train_cost = self.compute_cost(Y_train, A[-1])\n",
    "            grads = self.back_prop(X_train, Y_train, A, Z)\n",
    "            self.update_params(grads, epoch + 1)\n",
    "            self.train_costs.append(train_cost)\n",
    "\n",
    "            Ad, _ = self.forward_prop(X_dev)\n",
    "            dev_cost = self.compute_cost(Y_dev, Ad[-1])\n",
    "            self.dev_costs.append(dev_cost)\n",
    "            \n",
    "            if epoch % 100 == 0:\n",
    "                print(f\"Cost at epoch {epoch} is: Train: {train_cost}, Dev: {dev_cost}\")\n",
    "        print(f\"Final cost is: Train: {train_cost}, Dev: {dev_cost}\")        \n",
    "        plt.plot(self.train_costs, label = \"Train\")\n",
    "        plt.plot(self.dev_costs, label = \"Dev\")\n",
    "        plt.xlabel(\"epochs\")\n",
    "        plt.ylabel(\"cost\")\n",
    "        plt.legend()\n",
    "\n",
    "        A, Z = self.forward_prop(X_train)\n",
    "        Ad, _ = self.forward_prop(X_dev)\n",
    "        train_acc = np.sum((np.abs(Y_train - A[-1]) < self.accuracy)) / Y_train.shape[1]\n",
    "        dev_acc = np.sum((np.abs(Y_dev - Ad[-1]) < self.accuracy)) / Y_dev.shape[1]\n",
    "        print(f\"The accuracy on train set is : {train_acc * 100:.2f} %\")\n",
    "        print(f\"The accuracy on dev set is : {dev_acc * 100: .2f} %\")\n",
    "        \n",
    "    \n",
    "    def update_params(self, grads, t):\n",
    "        # Correction for moving averages\n",
    "        self.v_corrected = {}            \n",
    "        self.s_corrected = {} \n",
    "        for i in range(1, len(self.layer_sizes)):\n",
    "            self.v[\"dW\" + str(i)] = self.beta1 * self.v[\"dW\" + str(i)] + (1 - self.beta1) * grads[\"dW\" + str(i)]\n",
    "            self.v[\"db\" + str(i)] = self.beta1 * self.v[\"db\" + str(i)] + (1 - self.beta1) * grads[\"db\" + str(i)]   \n",
    "            \n",
    "            # Bias correction\n",
    "            self.v_corrected[\"dW\" + str(i)] = self.v[\"dW\" + str(i)] / (1 - self.beta1 ** t)\n",
    "            self.v_corrected[\"db\" + str(i)] = self.v[\"db\" + str(i)] / (1 - self.beta1 ** t)\n",
    "            \n",
    "            # Almost same stuff as v, just with square\n",
    "            self.s[\"dW\" + str(i)] = self.beta2 * self.s[\"dW\" + str(i)] + (1 - self.beta2) * (grads[\"dW\" + str(i)] ** 2)\n",
    "            self.s[\"db\" + str(i)] = self.beta2 * self.s[\"db\" + str(i)] + (1 - self.beta2) * (grads[\"db\" + str(i)] ** 2) \n",
    "            \n",
    "            self.s_corrected[\"dW\" + str(i)] = self.s[\"dW\" + str(i)] / (1 - self.beta2 ** t)\n",
    "            self.s_corrected[\"db\" + str(i)] = self.s[\"db\" + str(i)] / (1 - self.beta2 ** t)\n",
    "            \n",
    "            self.params['W' + str(i)] -= self.learning_rate * (self.v_corrected['dW' + str(i)] / np.sqrt(self.s_corrected['dW' + str(i)] + self.epsilon))\n",
    "            self.params['b' + str(i)] -= self.learning_rate * (self.v_corrected['db' + str(i)] / np.sqrt(self.s_corrected['db' + str(i)] + self.epsilon))\n",
    "            \n",
    "            \n",
    "    def test(self, X, Y):\n",
    "        A, _ = self.forward_prop(X)\n",
    "        cost = self.compute_cost(Y, A[-1])\n",
    "        print(f\"The cost on test set is {cost}\")\n",
    "        test_acc = np.sum((np.abs(Y - A[-1]) < self.accuracy)) / Y.shape[1]\n",
    "        print(f\"The accuracy on test set is : {test_acc * 100:.2f} %\")\n",
    "        \n",
    "        return\n",
    "        \n",
    "        \n",
    "    def predict(self, X):\n",
    "        A, _ = self.forward_prop(X)\n",
    "        return A[-1]\n",
    "       "
   ]
  },
  {
   "cell_type": "markdown",
   "id": "2a57a67d-466f-4925-ac73-9a674329058c",
   "metadata": {},
   "source": [
    "## Testing the Model\n",
    "The following cell shows that my model works perfectly, and it is able to reduce costs."
   ]
  },
  {
   "cell_type": "code",
   "execution_count": 39,
   "id": "b844c58b-30ca-4489-ae04-683bdbbbc6db",
   "metadata": {},
   "outputs": [
    {
     "name": "stdout",
     "output_type": "stream",
     "text": [
      "Cost at epoch 0 is: Train: 18.519627006319766, Dev: 18.46014963365396\n",
      "Cost at epoch 100 is: Train: 3.8259841127798393, Dev: 3.680379625961785\n",
      "Cost at epoch 200 is: Train: 0.26879010488184113, Dev: 0.2678535914202167\n",
      "Cost at epoch 300 is: Train: 0.17992023506986649, Dev: 0.17910227251150748\n",
      "Cost at epoch 400 is: Train: 0.10774724804196874, Dev: 0.10713167955801818\n",
      "Cost at epoch 500 is: Train: 0.05703622755859075, Dev: 0.0566369255508478\n",
      "Cost at epoch 600 is: Train: 0.026382043593556857, Dev: 0.02616080974679298\n",
      "Cost at epoch 700 is: Train: 0.010584049385600182, Dev: 0.010480174358329873\n",
      "Cost at epoch 800 is: Train: 0.0036760008563008926, Dev: 0.0036347048646721597\n",
      "Cost at epoch 900 is: Train: 0.0011079370456123418, Dev: 0.0010939595030087222\n",
      "Final cost is: Train: 0.00029502273163195135, Dev: 0.000290908428177658\n",
      "The accuracy on train set is : 100.00 %\n",
      "The accuracy on dev set is :  100.00 %\n",
      "[[6.0032158]]\n"
     ]
    },
    {
     "data": {
      "image/png": "[encoded data removed]",
      "text/plain": [
       "<Figure size 640x480 with 1 Axes>"
      ]
     },
     "metadata": {},
     "output_type": "display_data"
    }
   ],
   "source": [
    "# Generate synthetic data\n",
    "X_train = np.random.rand(1, 100)\n",
    "Y_train = 6 * X_train + 3\n",
    "\n",
    "# Create and train the neural network\n",
    "model = Neural_network(layer_sizes=[1, 3, 1], layer_activations=['relu', 'linear'], learning_rate=0.01, epochs=1000)\n",
    "costs = model.fit(X_train, Y_train, X_train, Y_train)\n",
    "\n",
    "# Test the model\n",
    "X_test = np.array([[0.5]])\n",
    "predicted_y = model.predict(X_test)\n",
    "print(predicted_y)"
   ]
  },
  {
   "cell_type": "markdown",
   "id": "954f1c37-74c8-4520-a958-1a116aede4fe",
   "metadata": {},
   "source": [
    "## Load the Data"
   ]
  },
  {
   "cell_type": "code",
   "execution_count": 40,
   "id": "c060df82",
   "metadata": {},
   "outputs": [
    {
     "data": {
      "text/html": [
       "<div>\n",
       "<style scoped>\n",
       "    .dataframe tbody tr th:only-of-type {\n",
       "        vertical-align: middle;\n",
       "    }\n",
       "\n",
       "    .dataframe tbody tr th {\n",
       "        vertical-align: top;\n",
       "    }\n",
       "\n",
       "    .dataframe thead th {\n",
       "        text-align: right;\n",
       "    }\n",
       "</style>\n",
       "<table border=\"1\" class=\"dataframe\">\n",
       "  <thead>\n",
       "    <tr style=\"text-align: right;\">\n",
       "      <th></th>\n",
       "      <th>total balls</th>\n",
       "      <th>score</th>\n",
       "      <th>Total Wickets</th>\n",
       "      <th>final score</th>\n",
       "      <th>Afghanistan</th>\n",
       "      <th>Argentina</th>\n",
       "      <th>Australia</th>\n",
       "      <th>Austria</th>\n",
       "      <th>Bahamas</th>\n",
       "      <th>Bahrain</th>\n",
       "      <th>...</th>\n",
       "      <th>Switzerland</th>\n",
       "      <th>Tanzania</th>\n",
       "      <th>Thailand</th>\n",
       "      <th>Turkey</th>\n",
       "      <th>Uganda</th>\n",
       "      <th>United Arab Emirates</th>\n",
       "      <th>United States of America</th>\n",
       "      <th>Vanuatu</th>\n",
       "      <th>West Indies</th>\n",
       "      <th>Zimbabwe</th>\n",
       "    </tr>\n",
       "  </thead>\n",
       "  <tbody>\n",
       "    <tr>\n",
       "      <th>0</th>\n",
       "      <td>0</td>\n",
       "      <td>0</td>\n",
       "      <td>0</td>\n",
       "      <td>121</td>\n",
       "      <td>0</td>\n",
       "      <td>0</td>\n",
       "      <td>0</td>\n",
       "      <td>1</td>\n",
       "      <td>0</td>\n",
       "      <td>0</td>\n",
       "      <td>...</td>\n",
       "      <td>0</td>\n",
       "      <td>0</td>\n",
       "      <td>0</td>\n",
       "      <td>0</td>\n",
       "      <td>0</td>\n",
       "      <td>0</td>\n",
       "      <td>0</td>\n",
       "      <td>0</td>\n",
       "      <td>0</td>\n",
       "      <td>0</td>\n",
       "    </tr>\n",
       "    <tr>\n",
       "      <th>1</th>\n",
       "      <td>1</td>\n",
       "      <td>4</td>\n",
       "      <td>0</td>\n",
       "      <td>121</td>\n",
       "      <td>0</td>\n",
       "      <td>0</td>\n",
       "      <td>0</td>\n",
       "      <td>1</td>\n",
       "      <td>0</td>\n",
       "      <td>0</td>\n",
       "      <td>...</td>\n",
       "      <td>0</td>\n",
       "      <td>0</td>\n",
       "      <td>0</td>\n",
       "      <td>0</td>\n",
       "      <td>0</td>\n",
       "      <td>0</td>\n",
       "      <td>0</td>\n",
       "      <td>0</td>\n",
       "      <td>0</td>\n",
       "      <td>0</td>\n",
       "    </tr>\n",
       "    <tr>\n",
       "      <th>2</th>\n",
       "      <td>2</td>\n",
       "      <td>4</td>\n",
       "      <td>0</td>\n",
       "      <td>121</td>\n",
       "      <td>0</td>\n",
       "      <td>0</td>\n",
       "      <td>0</td>\n",
       "      <td>1</td>\n",
       "      <td>0</td>\n",
       "      <td>0</td>\n",
       "      <td>...</td>\n",
       "      <td>0</td>\n",
       "      <td>0</td>\n",
       "      <td>0</td>\n",
       "      <td>0</td>\n",
       "      <td>0</td>\n",
       "      <td>0</td>\n",
       "      <td>0</td>\n",
       "      <td>0</td>\n",
       "      <td>0</td>\n",
       "      <td>0</td>\n",
       "    </tr>\n",
       "    <tr>\n",
       "      <th>3</th>\n",
       "      <td>3</td>\n",
       "      <td>4</td>\n",
       "      <td>0</td>\n",
       "      <td>121</td>\n",
       "      <td>0</td>\n",
       "      <td>0</td>\n",
       "      <td>0</td>\n",
       "      <td>1</td>\n",
       "      <td>0</td>\n",
       "      <td>0</td>\n",
       "      <td>...</td>\n",
       "      <td>0</td>\n",
       "      <td>0</td>\n",
       "      <td>0</td>\n",
       "      <td>0</td>\n",
       "      <td>0</td>\n",
       "      <td>0</td>\n",
       "      <td>0</td>\n",
       "      <td>0</td>\n",
       "      <td>0</td>\n",
       "      <td>0</td>\n",
       "    </tr>\n",
       "    <tr>\n",
       "      <th>4</th>\n",
       "      <td>4</td>\n",
       "      <td>5</td>\n",
       "      <td>0</td>\n",
       "      <td>121</td>\n",
       "      <td>0</td>\n",
       "      <td>0</td>\n",
       "      <td>0</td>\n",
       "      <td>1</td>\n",
       "      <td>0</td>\n",
       "      <td>0</td>\n",
       "      <td>...</td>\n",
       "      <td>0</td>\n",
       "      <td>0</td>\n",
       "      <td>0</td>\n",
       "      <td>0</td>\n",
       "      <td>0</td>\n",
       "      <td>0</td>\n",
       "      <td>0</td>\n",
       "      <td>0</td>\n",
       "      <td>0</td>\n",
       "      <td>0</td>\n",
       "    </tr>\n",
       "  </tbody>\n",
       "</table>\n",
       "<p>5 rows × 99 columns</p>\n",
       "</div>"
      ],
      "text/plain": [
       "   total balls  score  Total Wickets  final score  Afghanistan  Argentina  \\\n",
       "0            0      0              0          121            0          0   \n",
       "1            1      4              0          121            0          0   \n",
       "2            2      4              0          121            0          0   \n",
       "3            3      4              0          121            0          0   \n",
       "4            4      5              0          121            0          0   \n",
       "\n",
       "   Australia  Austria  Bahamas  Bahrain  ...  Switzerland  Tanzania  Thailand  \\\n",
       "0          0        1        0        0  ...            0         0         0   \n",
       "1          0        1        0        0  ...            0         0         0   \n",
       "2          0        1        0        0  ...            0         0         0   \n",
       "3          0        1        0        0  ...            0         0         0   \n",
       "4          0        1        0        0  ...            0         0         0   \n",
       "\n",
       "   Turkey  Uganda  United Arab Emirates  United States of America  Vanuatu  \\\n",
       "0       0       0                     0                         0        0   \n",
       "1       0       0                     0                         0        0   \n",
       "2       0       0                     0                         0        0   \n",
       "3       0       0                     0                         0        0   \n",
       "4       0       0                     0                         0        0   \n",
       "\n",
       "   West Indies  Zimbabwe  \n",
       "0            0         0  \n",
       "1            0         0  \n",
       "2            0         0  \n",
       "3            0         0  \n",
       "4            0         0  \n",
       "\n",
       "[5 rows x 99 columns]"
      ]
     },
     "execution_count": 40,
     "metadata": {},
     "output_type": "execute_result"
    }
   ],
   "source": [
    "# Read the match data csv\n",
    "match_data = pd.read_csv(r\"../Resources/final_score_data.csv\")\n",
    "match_data.head()"
   ]
  },
  {
   "cell_type": "code",
   "execution_count": 41,
   "id": "dd372d78-8fd4-47a6-9c17-45c0123c1998",
   "metadata": {},
   "outputs": [
    {
     "name": "stdout",
     "output_type": "stream",
     "text": [
      "95\n"
     ]
    }
   ],
   "source": [
    "country_list = ['Afghanistan', 'Argentina', 'Australia', 'Austria', 'Bahamas', 'Bahrain', 'Bangladesh', 'Belgium', 'Belize', 'Bermuda', 'Bhutan', 'Botswana', 'Bulgaria', 'Cameroon', 'Canada', 'Cayman Islands', 'Cook Islands', 'Croatia', 'Cyprus', 'Czech Republic', 'Denmark', 'England', 'Estonia', 'Eswatini', 'Fiji', 'Finland', 'France', 'Gambia', 'Germany', 'Ghana', 'Gibraltar', 'Greece', 'Guernsey', 'Hong Kong', 'Hungary', 'ICC World XI', 'India', 'Indonesia', 'Iran', 'Ireland', 'Isle of Man', 'Israel', 'Italy', 'Japan', 'Jersey', 'Kenya', 'Kuwait', 'Lesotho', 'Luxembourg', 'Malawi', 'Malaysia', 'Maldives', 'Mali', 'Malta', 'Mozambique', 'Namibia', 'Nepal', 'Netherlands', 'New Zealand', 'Nigeria', 'Norway', 'Oman', 'Pakistan', 'Panama', 'Papua New Guinea', 'Philippines', 'Portugal', 'Qatar', 'Romania', 'Rwanda', 'Samoa', 'Saudi Arabia', 'Scotland', 'Serbia', 'Seychelles', 'Sierra Leone', 'Singapore', 'Slovenia', 'South Africa', 'South Korea', 'Spain', 'Sri Lanka', 'St Helena', 'Swaziland', 'Sweden', 'Switzerland', 'Tanzania', 'Thailand', 'Turkey', 'Uganda', 'United Arab Emirates', 'United States of America', 'Vanuatu', 'West Indies', 'Zimbabwe']\n",
    "\n",
    "print(len(country_list))\n",
    "def one_hot(target_country):\n",
    "    '''\n",
    "    This function takes a country, and returns a one hot encoded np array\n",
    "    '''\n",
    "    one_hot_encoded = [int(country == target_country) for country in country_list]\n",
    "    return np.array(one_hot_encoded)\n"
   ]
  },
  {
   "cell_type": "markdown",
   "id": "9c6cba81-6ac6-4648-84aa-4c203b830f0a",
   "metadata": {},
   "source": [
    "# Training the model\n",
    "Now I convert the relevant data into numpy arrays, divide it into train, dev and test sets in a ratio of 96/2/2 (since I have a lot of data), and feed them into a model. My first model is a simple linear regression model so that I can set the baseline for accuracy."
   ]
  },
  {
   "cell_type": "code",
   "execution_count": 42,
   "id": "a3afb3cd",
   "metadata": {},
   "outputs": [
    {
     "name": "stdout",
     "output_type": "stream",
     "text": [
      "(98, 407789)\n",
      "(1, 407789)\n"
     ]
    }
   ],
   "source": [
    "# Specify the X and Y labels\n",
    "Y = match_data[[\"final score\"]].to_numpy()\n",
    "match_data = match_data.drop(columns=[\"final score\"])\n",
    "X = match_data.to_numpy()\n",
    "scaler = preprocessing.MinMaxScaler()\n",
    "X = scaler.fit_transform(X)\n",
    "X = X.T\n",
    "Y = Y.T\n",
    "print(X.shape)\n",
    "print(Y.shape)"
   ]
  },
  {
   "cell_type": "code",
   "execution_count": 43,
   "id": "0d913314",
   "metadata": {},
   "outputs": [],
   "source": [
    "# Split into train/dev and test sets\n",
    "train_ratio = 0.96\n",
    "dev_ratio = 0.02\n",
    "# Test and dev ratio are same\n",
    "\n",
    "total_examples = X.shape[1]\n",
    "train_size = int(train_ratio * total_examples)\n",
    "dev_size = int(dev_ratio * total_examples)\n",
    "\n",
    "\n",
    "# Shuffle the arrays\n",
    "indices = np.random.permutation(total_examples)\n",
    "X, Y = X[:,indices], Y[:,indices]\n",
    "#X, Y = X[indices], Y[indices]\n",
    "\n",
    "# Finally, split the data\n",
    "X_train, X_dev, X_test = X[:,:train_size], X[:,train_size:train_size + dev_size], X[:, train_size + dev_size:]\n",
    "Y_train, Y_dev, Y_test = Y[:,:train_size], Y[:,train_size:train_size + dev_size], Y[:, train_size + dev_size:]\n",
    "#X_train, X_dev, X_test = X[:train_size], X[train_size:train_size + dev_size], X[train_size + dev_size:]\n",
    "#Y_train, Y_dev, Y_test = Y[:train_size], Y[train_size:train_size + dev_size], Y[train_size + dev_size:]\n",
    "\n"
   ]
  },
  {
   "cell_type": "code",
   "execution_count": 44,
   "id": "24d676ca",
   "metadata": {},
   "outputs": [
    {
     "name": "stdout",
     "output_type": "stream",
     "text": [
      "Cost at epoch 0 is: Train: 11071.382149022735, Dev: 10834.270418351425\n",
      "Cost at epoch 100 is: Train: 3000.2785705193683, Dev: 2903.3151930010204\n",
      "Cost at epoch 200 is: Train: 1135.7234131840319, Dev: 1098.7615526767377\n",
      "Cost at epoch 300 is: Train: 842.6016035396686, Dev: 821.5870363450355\n",
      "Cost at epoch 400 is: Train: 743.0468748207246, Dev: 727.1053496410423\n",
      "Cost at epoch 500 is: Train: 670.6618810908301, Dev: 657.4810630446995\n",
      "Cost at epoch 600 is: Train: 612.782597795826, Dev: 601.558501242578\n",
      "Cost at epoch 700 is: Train: 567.0407352273222, Dev: 557.3192341136017\n",
      "Cost at epoch 800 is: Train: 531.7075394917879, Dev: 523.1949978568219\n",
      "Cost at epoch 900 is: Train: 504.92455740994893, Dev: 497.4248194006175\n",
      "Final cost is: Train: 484.98099889483984, Dev: 478.34599318915394\n",
      "The accuracy on train set is : 51.43 %\n",
      "The accuracy on dev set is :  51.93 %\n",
      "The cost on test set is 496.58922458015184\n",
      "The accuracy on test set is : 50.66 %\n"
     ]
    },
    {
     "data": {
      "image/png": "[encoded data removed]",
      "text/plain": [
       "<Figure size 640x480 with 1 Axes>"
      ]
     },
     "metadata": {},
     "output_type": "display_data"
    }
   ],
   "source": [
    "# Now create and train the model\n",
    "final_score_predictor = Neural_network(layer_sizes=[98, 1], layer_activations=['linear'], \n",
    "                                      learning_rate = 0.3, epochs = 1000)\n",
    "\n",
    "final_score_predictor.fit(X_train, Y_train, X_dev, Y_dev)\n",
    "final_score_predictor.test(X_test, Y_test)"
   ]
  },
  {
   "cell_type": "code",
   "execution_count": 49,
   "id": "9cc55462-b193-491d-9968-0f54beeadfc3",
   "metadata": {},
   "outputs": [
    {
     "name": "stdout",
     "output_type": "stream",
     "text": [
      "Cost at epoch 0 is: Train: 385.7957606894932, Dev: 385.91072913282784\n",
      "Cost at epoch 100 is: Train: 385.0709098051615, Dev: 385.23192406745625\n",
      "Cost at epoch 200 is: Train: 383.8633584365719, Dev: 384.09662088347505\n",
      "Cost at epoch 300 is: Train: 382.33765968213373, Dev: 382.6623045215685\n",
      "Cost at epoch 400 is: Train: 380.5913664827947, Dev: 381.0191764432271\n",
      "Cost at epoch 500 is: Train: 378.69206426515495, Dev: 379.23023610166405\n",
      "Cost at epoch 600 is: Train: 376.69327572494046, Dev: 377.3459004691589\n",
      "Cost at epoch 700 is: Train: 374.6402756702328, Dev: 375.4092621826244\n",
      "Cost at epoch 800 is: Train: 372.57255464749363, Dev: 373.4582184154384\n",
      "Cost at epoch 900 is: Train: 370.52479994566534, Dev: 371.52622873768587\n",
      "Final cost is: Train: 368.54683744468826, Dev: 369.6609852360409\n",
      "The accuracy on train set is : 61.09 %\n",
      "The accuracy on dev set is :  60.76 %\n",
      "The cost on test set is 371.4540839009115\n",
      "The accuracy on test set is : 60.76 %\n"
     ]
    },
    {
     "data": {
      "image/png": "[encoded data removed]",
      "text/plain": [
       "<Figure size 640x480 with 1 Axes>"
      ]
     },
     "metadata": {},
     "output_type": "display_data"
    }
   ],
   "source": [
    "# Train the model more to make fine adjustments\n",
    "final_score_predictor.learning_rate = 0.3\n",
    "final_score_predictor.epochs = 1000\n",
    "final_score_predictor.fit(X_train, Y_train, X_dev, Y_dev)\n",
    "final_score_predictor.test(X_test, Y_test)"
   ]
  },
  {
   "cell_type": "markdown",
   "id": "bcc20ded-c738-4204-8b85-3704a2262146",
   "metadata": {},
   "source": [
    "### Result\n",
    "So I got an accuracy of about 64% on the linear model, Let's try a slightly more complex model"
   ]
  },
  {
   "cell_type": "code",
   "execution_count": 57,
   "id": "6dcade0c",
   "metadata": {},
   "outputs": [
    {
     "name": "stdout",
     "output_type": "stream",
     "text": [
      "Cost at epoch 0 is: Train: 11070.237683184452, Dev: 10959.059762329147\n",
      "Cost at epoch 100 is: Train: 482.7601117804355, Dev: 477.63615683662414\n",
      "Cost at epoch 200 is: Train: 399.60709983347215, Dev: 398.60152085364314\n",
      "Cost at epoch 300 is: Train: 375.4080022838326, Dev: 376.25499170797474\n",
      "Cost at epoch 400 is: Train: 356.27269990437105, Dev: 358.43692787822084\n",
      "Cost at epoch 500 is: Train: 343.5467127308789, Dev: 346.9936129179779\n",
      "Cost at epoch 600 is: Train: 339.73079407439593, Dev: 344.00340914086513\n",
      "Cost at epoch 700 is: Train: 338.78201455370714, Dev: 343.2170873091071\n",
      "Cost at epoch 800 is: Train: 338.07381458778184, Dev: 342.33062024335214\n",
      "Cost at epoch 900 is: Train: 336.63758083145893, Dev: 341.15685413244006\n",
      "Final cost is: Train: 336.3496615233333, Dev: 341.01120260669836\n",
      "The accuracy on train set is : 65.13 %\n",
      "The accuracy on dev set is :  65.09 %\n",
      "The cost on test set is 337.9685504657518\n",
      "The accuracy on test set is : 64.36 %\n"
     ]
    },
    {
     "data": {
      "image/png": "[encoded data removed]",
      "text/plain": [
       "<Figure size 640x480 with 1 Axes>"
      ]
     },
     "metadata": {},
     "output_type": "display_data"
    }
   ],
   "source": [
    "# Training model no 2\n",
    "final_score_predictor2 = Neural_network(layer_sizes=[98,75,50,25,12,6,5,4,1], layer_activations=['relu','relu','relu','relu','relu','relu','relu','linear'], \n",
    "                                      learning_rate = 0.01, epochs = 1000, dropout = 1)\n",
    "\n",
    "final_score_predictor2.fit(X_train, Y_train, X_dev, Y_dev)\n",
    "final_score_predictor2.test(X_test, Y_test)"
   ]
  },
  {
   "cell_type": "code",
   "execution_count": 59,
   "id": "c1ea01a4-ac81-451e-a95c-1fc002d3ab48",
   "metadata": {},
   "outputs": [
    {
     "name": "stdout",
     "output_type": "stream",
     "text": [
      "Cost at epoch 0 is: Train: 336.326438677652, Dev: 341.0029827285547\n",
      "Final cost is: Train: 336.326438677652, Dev: 341.0029827285547\n",
      "The accuracy on train set is : 65.14 %\n",
      "The accuracy on dev set is :  65.11 %\n",
      "The cost on test set is 337.9547976129548\n",
      "The accuracy on test set is : 64.41 %\n"
     ]
    },
    {
     "data": {
      "image/png": "[encoded data removed]",
      "text/plain": [
       "<Figure size 640x480 with 1 Axes>"
      ]
     },
     "metadata": {},
     "output_type": "display_data"
    }
   ],
   "source": [
    "# Train the model more to make fine adjustments\n",
    "final_score_predictor2.learning_rate = 0.0001\n",
    "final_score_predictor2.epochs = 1\n",
    "final_score_predictor2.fit(X_train, Y_train, X_dev, Y_dev)\n",
    "final_score_predictor2.test(X_test, Y_test)"
   ]
  },
  {
   "cell_type": "code",
   "execution_count": 62,
   "id": "d06b7235-3db1-46f6-80ad-819a5e82459b",
   "metadata": {},
   "outputs": [
    {
     "data": {
      "text/plain": [
       "0.5134036085472455"
      ]
     },
     "execution_count": 62,
     "metadata": {},
     "output_type": "execute_result"
    }
   ],
   "source": [
    "r2_score(Y_test.T, final_score_predictor2.predict(X_test).T)"
   ]
  },
  {
   "cell_type": "code",
   "execution_count": 64,
   "id": "86e4a31c-186c-43f3-94d8-7f5f8f4a4435",
   "metadata": {},
   "outputs": [
    {
     "name": "stdout",
     "output_type": "stream",
     "text": [
      "The model predicts a final score of 96\n"
     ]
    }
   ],
   "source": [
    "predicted_score = round(float(final_score_predictor2.predict(scaler.transform(np.concatenate([[114,80,5],one_hot(\"Pakistan\")]).reshape(1,-1)).reshape(-1, 1))))\n",
    "print(f\"The model predicts a final score of {predicted_score}\")"
   ]
  },
  {
   "cell_type": "markdown",
   "id": "47c724b3-1f04-47ad-a475-4b4f07bcfbb2",
   "metadata": {},
   "source": [
    "65% accuracy, That's some progress. I guess I can't do anymore. Let's try a third model with country ratings instead of one hot encoding"
   ]
  },
  {
   "cell_type": "markdown",
   "id": "b0afa701-f56f-4fe1-b1eb-fdb727dca60b",
   "metadata": {},
   "source": [
    "<h1>Model with country ratings</h1>"
   ]
  },
  {
   "cell_type": "code",
   "execution_count": 159,
   "id": "30fe7162-3ed3-4c8a-9c9e-100497574c53",
   "metadata": {},
   "outputs": [
    {
     "data": {
      "text/html": [
       "<div>\n",
       "<style scoped>\n",
       "    .dataframe tbody tr th:only-of-type {\n",
       "        vertical-align: middle;\n",
       "    }\n",
       "\n",
       "    .dataframe tbody tr th {\n",
       "        vertical-align: top;\n",
       "    }\n",
       "\n",
       "    .dataframe thead th {\n",
       "        text-align: right;\n",
       "    }\n",
       "</style>\n",
       "<table border=\"1\" class=\"dataframe\">\n",
       "  <thead>\n",
       "    <tr style=\"text-align: right;\">\n",
       "      <th></th>\n",
       "      <th>total balls</th>\n",
       "      <th>score</th>\n",
       "      <th>Total Wickets</th>\n",
       "      <th>final score</th>\n",
       "      <th>country rating</th>\n",
       "    </tr>\n",
       "  </thead>\n",
       "  <tbody>\n",
       "    <tr>\n",
       "      <th>0</th>\n",
       "      <td>0</td>\n",
       "      <td>0</td>\n",
       "      <td>0</td>\n",
       "      <td>121</td>\n",
       "      <td>58</td>\n",
       "    </tr>\n",
       "    <tr>\n",
       "      <th>1</th>\n",
       "      <td>1</td>\n",
       "      <td>4</td>\n",
       "      <td>0</td>\n",
       "      <td>121</td>\n",
       "      <td>58</td>\n",
       "    </tr>\n",
       "    <tr>\n",
       "      <th>2</th>\n",
       "      <td>2</td>\n",
       "      <td>4</td>\n",
       "      <td>0</td>\n",
       "      <td>121</td>\n",
       "      <td>58</td>\n",
       "    </tr>\n",
       "    <tr>\n",
       "      <th>3</th>\n",
       "      <td>3</td>\n",
       "      <td>4</td>\n",
       "      <td>0</td>\n",
       "      <td>121</td>\n",
       "      <td>58</td>\n",
       "    </tr>\n",
       "    <tr>\n",
       "      <th>4</th>\n",
       "      <td>4</td>\n",
       "      <td>5</td>\n",
       "      <td>0</td>\n",
       "      <td>121</td>\n",
       "      <td>58</td>\n",
       "    </tr>\n",
       "  </tbody>\n",
       "</table>\n",
       "</div>"
      ],
      "text/plain": [
       "   total balls  score  Total Wickets  final score  country rating\n",
       "0            0      0              0          121              58\n",
       "1            1      4              0          121              58\n",
       "2            2      4              0          121              58\n",
       "3            3      4              0          121              58\n",
       "4            4      5              0          121              58"
      ]
     },
     "execution_count": 159,
     "metadata": {},
     "output_type": "execute_result"
    }
   ],
   "source": [
    "# Load The data\n",
    "country_data = pd.read_csv(r\"../Resources/final_score_country.csv\")\n",
    "country_data.head()"
   ]
  },
  {
   "cell_type": "code",
   "execution_count": 183,
   "id": "ef9e8399-4197-4858-9304-016a98293e3d",
   "metadata": {},
   "outputs": [
    {
     "name": "stdout",
     "output_type": "stream",
     "text": [
      "(4, 394983)\n",
      "(1, 394983)\n",
      "(4, 379183) (4, 254) (4, 281)\n",
      "(1, 379183) (1, 254) (1, 281)\n"
     ]
    }
   ],
   "source": [
    "# Specify the X and Y labels\n",
    "Y = country_data[[\"final score\"]].to_numpy()\n",
    "X = country_data[['total balls','score','Total Wickets','country rating']].to_numpy()\n",
    "X = X.T\n",
    "Y = Y.T\n",
    "print(X.shape)\n",
    "print(Y.shape)\n",
    "\n",
    "# Split into train/dev and test sets\n",
    "train_ratio = 0.96\n",
    "dev_ratio = 0.02\n",
    "# Test and dev ratio are same\n",
    "\n",
    "total_examples = X.shape[1]\n",
    "train_size = int(train_ratio * total_examples)\n",
    "dev_size = int(dev_ratio * total_examples)\n",
    "\n",
    "\n",
    "# Shuffle the arrays\n",
    "indices = np.random.permutation(total_examples)\n",
    "X, Y = X[:,indices], Y[:,indices]\n",
    "\n",
    "# Finally, split the data\n",
    "X_train, X_dev, X_test = X[:,:train_size], X[:,train_size:train_size + dev_size], X[:, train_size + dev_size:]\n",
    "Y_train, Y_dev, Y_test = Y[:,:train_size], Y[:,train_size:train_size + dev_size], Y[:, train_size + dev_size:]\n",
    "\n",
    "# Filter dev and test data to contain only total balls >= threshold\n",
    "threshold = 114\n",
    "X_dev, X_test, Y_dev, Y_test  = X_dev[:,X_dev[0] >= threshold], X_test[:,X_test[0] >= threshold], Y_dev[:,X_dev[0] >= threshold], Y_test[:,X_test[0] >= threshold]\n",
    "\n",
    "scaler = preprocessing.MinMaxScaler()\n",
    "X_train = scaler.fit_transform(X_train.T).T\n",
    "X_dev = scaler.transform(X_dev.T).T\n",
    "X_test = scaler.transform(X_test.T).T\n",
    "\n",
    "print(X_train.shape,X_dev.shape,X_test.shape)\n",
    "print(Y_train.shape,Y_dev.shape,Y_test.shape)"
   ]
  },
  {
   "cell_type": "code",
   "execution_count": null,
   "id": "a9f801d2-0b20-4459-aff0-089070e9a754",
   "metadata": {},
   "outputs": [],
   "source": [
    "# So, first lets train a linear model to check base performance\n",
    "final_score_predictor = Neural_network(layer_sizes=[4, 1], layer_activations=['linear'], \n",
    "                                      learning_rate = 0.1, epochs = 1000)\n",
    "\n",
    "final_score_predictor.fit(X_train, Y_train, X_dev, Y_dev)\n",
    "final_score_predictor.test(X_test, Y_test)"
   ]
  },
  {
   "cell_type": "code",
   "execution_count": 83,
   "id": "bc6404d8-6c34-4766-a9b7-36e3eb185b44",
   "metadata": {},
   "outputs": [
    {
     "name": "stdout",
     "output_type": "stream",
     "text": [
      "Cost at epoch 0 is: Train: 370.80997165416045, Dev: 374.43764554297354\n",
      "Final cost is: Train: 370.80997165416045, Dev: 374.43764554297354\n",
      "The accuracy on train set is : 62.93 %\n",
      "The accuracy on dev set is :  62.98 %\n",
      "The cost on test set is 365.7265247825257\n",
      "The accuracy on test set is : 62.47 %\n"
     ]
    },
    {
     "data": {
      "image/png": "[encoded data removed]",
      "text/plain": [
       "<Figure size 640x480 with 1 Axes>"
      ]
     },
     "metadata": {},
     "output_type": "display_data"
    }
   ],
   "source": [
    "# Train the model more to make fine adjustments\n",
    "final_score_predictor.learning_rate = 0.0001\n",
    "final_score_predictor.epochs = 1\n",
    "final_score_predictor.fit(X_train, Y_train, X_dev, Y_dev)\n",
    "final_score_predictor.test(X_test, Y_test)"
   ]
  },
  {
   "cell_type": "markdown",
   "id": "9f921ffb-3f0c-45c2-a38c-224d04471f59",
   "metadata": {},
   "source": [
    "Looks like this is the best I can do, 63% accuracy. Let's try more complex models"
   ]
  },
  {
   "cell_type": "code",
   "execution_count": 163,
   "id": "d1cd8662-4f08-45fa-b9cb-71ac19ffded4",
   "metadata": {},
   "outputs": [
    {
     "name": "stdout",
     "output_type": "stream",
     "text": [
      "Cost at epoch 0 is: Train: 11115.152183762179, Dev: 11021.480135028834\n",
      "Cost at epoch 100 is: Train: 442.6647559921361, Dev: 440.3329589085566\n",
      "Cost at epoch 200 is: Train: 389.5237492996461, Dev: 388.80870157873164\n",
      "Cost at epoch 300 is: Train: 370.8691529259762, Dev: 370.95812008154286\n",
      "Cost at epoch 400 is: Train: 366.8188336692786, Dev: 366.86530317040234\n",
      "Cost at epoch 500 is: Train: 364.022226244979, Dev: 363.89466394203174\n",
      "Cost at epoch 600 is: Train: 363.74647532791016, Dev: 363.7279306004478\n",
      "Cost at epoch 700 is: Train: 363.6328702028473, Dev: 363.6664010899953\n",
      "Cost at epoch 800 is: Train: 363.5713457467676, Dev: 363.599154716749\n",
      "Cost at epoch 900 is: Train: 363.5280604223344, Dev: 363.61642575884974\n",
      "Final cost is: Train: 363.4927310400113, Dev: 363.6865356819655\n",
      "The accuracy on train set is : 63.60 %\n",
      "The accuracy on dev set is :  62.93 %\n",
      "The cost on test set is 366.34648927110015\n",
      "The accuracy on test set is : 64.38 %\n"
     ]
    },
    {
     "data": {
      "image/png": "[encoded data removed]",
      "text/plain": [
       "<Figure size 640x480 with 1 Axes>"
      ]
     },
     "metadata": {},
     "output_type": "display_data"
    }
   ],
   "source": [
    "# Training model no 2\n",
    "final_score_predictor2 = Neural_network(layer_sizes=[4,10,7,5,3,1], layer_activations=['relu','relu','relu','relu','relu','linear'], \n",
    "                                      learning_rate = 0.1, epochs = 1000, dropout = 1)\n",
    "\n",
    "final_score_predictor2.fit(X_train, Y_train, X_dev, Y_dev)\n",
    "final_score_predictor2.test(X_test, Y_test)"
   ]
  },
  {
   "cell_type": "code",
   "execution_count": 184,
   "id": "019ad227-12e1-4d91-931b-53e01ef69a27",
   "metadata": {},
   "outputs": [
    {
     "name": "stdout",
     "output_type": "stream",
     "text": [
      "Cost at epoch 0 is: Train: 363.92444440346264, Dev: 172.53957202116743\n",
      "Final cost is: Train: 363.92444440346264, Dev: 172.53957202116743\n",
      "The accuracy on train set is : 37.76 %\n",
      "The accuracy on dev set is :  75.59 %\n",
      "The cost on test set is 60.12162065685009\n",
      "The accuracy on test set is : 78.29 %\n",
      "mse: 120.24324131370018\n",
      "rmse: 10.965547925831165\n",
      "r2_score: 0.8827175591849913\n"
     ]
    },
    {
     "data": {
      "image/png": "[encoded data removed]",
      "text/plain": [
       "<Figure size 640x480 with 1 Axes>"
      ]
     },
     "metadata": {},
     "output_type": "display_data"
    }
   ],
   "source": [
    "# Train the model more to make fine adjustments\n",
    "final_score_predictor2.learning_rate = 0.0000001\n",
    "final_score_predictor2.epochs = 1\n",
    "final_score_predictor2.accuracy = 10\n",
    "final_score_predictor2.fit(X_train, Y_train, X_dev, Y_dev)\n",
    "final_score_predictor2.test(X_test, Y_test)\n",
    "mse = mean_squared_error(Y_test.T, final_score_predictor2.predict(X_test).T)\n",
    "print(f\"mse: {mse}\")\n",
    "print(f\"rmse: {np.sqrt(mse)}\")\n",
    "print(f\"r2_score: {r2_score(Y_test.T, final_score_predictor2.predict(X_test).T)}\")"
   ]
  },
  {
   "cell_type": "code",
   "execution_count": 152,
   "id": "7afb6c50-9001-48e7-867b-6bab62322678",
   "metadata": {},
   "outputs": [
    {
     "name": "stdout",
     "output_type": "stream",
     "text": [
      "The model predicts a final score of 146\n"
     ]
    }
   ],
   "source": [
    "predicted_score = round(float(final_score_predictor2.predict(scaler.transform([[114,130,5,254]]).T)))\n",
    "print(f\"The model predicts a final score of {predicted_score}\")"
   ]
  },
  {
   "cell_type": "markdown",
   "id": "9ce587eb-dc8e-4ef0-b901-6e2e380b8db3",
   "metadata": {},
   "source": [
    "<h2>Summary</h2>\n",
    "So, the final model architecture that I will go with is  4 (input) -> 10 -> 7 -> 5 -> 3 -> 1 (output) with relu activations in hidden layers.<br/>\n",
    "The features used by a model are Here are the results of the model.\n",
    "<table>\n",
    "    <thead>\n",
    "        <th> Threshold </th>\n",
    "        <th> Accuracy within 20 runs </th>\n",
    "        <th> Accuracy within 10 runs </th>\n",
    "        <th> MSE </th>\n",
    "        <th> RMSE </th> \n",
    "        <th> R2 Score </th>\n",
    "    </thead>\n",
    "    <tbody>\n",
    "        <tr>\n",
    "            <td> None </td>\n",
    "            <td> 63.31 % </td>\n",
    "            <td> 38.50 % </td>\n",
    "            <td> 719.93 </td>\n",
    "            <td> 26.83 </td> \n",
    "            <td> 0.48 </td>\n",
    "        </tr>\n",
    "        <tr>\n",
    "            <td> >5 overs </td>\n",
    "            <td> 69.36 % </td>\n",
    "            <td> 43.77 % </td>\n",
    "            <td> 508.5 </td>\n",
    "            <td> 22.54 </td> \n",
    "            <td> 0.61 </td>\n",
    "        </tr>\n",
    "        <tr>\n",
    "            <td> >10 overs </td>\n",
    "            <td> 78.61 % </td>\n",
    "            <td> 52.36 % </td>\n",
    "            <td> 357.21 </td>\n",
    "            <td> 18.9 </td> \n",
    "            <td> 0.71 </td>\n",
    "        </tr>\n",
    "        <tr>\n",
    "            <td> >15 overs </td>\n",
    "            <td> 92.40 % </td>\n",
    "            <td> 66.33 %</td>\n",
    "            <td> 154.48 </td>\n",
    "            <td> 12.43 </td> \n",
    "            <td> 0.87 </td>\n",
    "        </tr>\n",
    "        <tr>\n",
    "            <td> last over </td>\n",
    "            <td> 97.36 % </td>\n",
    "            <td> 78.01 % </td>\n",
    "            <td> 68.16 </td>\n",
    "            <td> 8.25 </td> \n",
    "            <td> 0.94 </td>\n",
    "        </tr>\n",
    "    </tbody>\n",
    "</table>"
   ]
  },
  {
   "cell_type": "code",
   "execution_count": null,
   "id": "4f2e3d94-c776-43bb-9bfd-ec945d997269",
   "metadata": {},
   "outputs": [],
   "source": []
  }
 ],
 "metadata": {
  "kernelspec": {
   "display_name": "Python 3 (ipykernel)",
   "language": "python",
   "name": "python3"
  },
  "language_info": {
   "codemirror_mode": {
    "name": "ipython",
    "version": 3
   },
   "file_extension": ".py",
   "mimetype": "text/x-python",
   "name": "python",
   "nbconvert_exporter": "python",
   "pygments_lexer": "ipython3",
   "version": "3.9.13"
  }
 },
 "nbformat": 4,
 "nbformat_minor": 5
}
