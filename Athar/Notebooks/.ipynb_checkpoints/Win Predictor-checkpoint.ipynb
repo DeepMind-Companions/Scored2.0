{
 "cells": [
  {
   "cell_type": "markdown",
   "id": "27dc23b4-30ab-490c-b19a-f47c3c2a0d76",
   "metadata": {},
   "source": [
    "<h1>T20 Cricket Win Predictor</h1>\n",
    "This notebook focuses on developing a model for T20 cricket win predictions. Only data from second innings will be used here."
   ]
  },
  {
   "cell_type": "code",
   "execution_count": 415,
   "id": "680ee021-aab1-4674-82e0-b1420fb18691",
   "metadata": {},
   "outputs": [],
   "source": [
    "# Load the packages\n",
    "import numpy as np\n",
    "import pandas as pd\n",
    "import matplotlib.pyplot as plt\n",
    "%matplotlib inline\n",
    "import tensorflow as tf\n",
    "from sklearn.model_selection import train_test_split\n",
    "\n",
    "np.random.seed(42)"
   ]
  },
  {
   "cell_type": "code",
   "execution_count": 416,
   "id": "65bf9206-75f1-45a2-82a1-8edc34390eef",
   "metadata": {},
   "outputs": [
    {
     "data": {
      "text/html": [
       "<div>\n",
       "<style scoped>\n",
       "    .dataframe tbody tr th:only-of-type {\n",
       "        vertical-align: middle;\n",
       "    }\n",
       "\n",
       "    .dataframe tbody tr th {\n",
       "        vertical-align: top;\n",
       "    }\n",
       "\n",
       "    .dataframe thead th {\n",
       "        text-align: right;\n",
       "    }\n",
       "</style>\n",
       "<table border=\"1\" class=\"dataframe\">\n",
       "  <thead>\n",
       "    <tr style=\"text-align: right;\">\n",
       "      <th></th>\n",
       "      <th>match code</th>\n",
       "      <th>country</th>\n",
       "      <th>over</th>\n",
       "      <th>ball</th>\n",
       "      <th>score</th>\n",
       "      <th>total wickets</th>\n",
       "      <th>win</th>\n",
       "      <th>target</th>\n",
       "      <th>other rating</th>\n",
       "      <th>rating</th>\n",
       "      <th>balls</th>\n",
       "    </tr>\n",
       "  </thead>\n",
       "  <tbody>\n",
       "    <tr>\n",
       "      <th>0</th>\n",
       "      <td>1381452</td>\n",
       "      <td>Germany</td>\n",
       "      <td>0</td>\n",
       "      <td>0</td>\n",
       "      <td>2</td>\n",
       "      <td>0</td>\n",
       "      <td>1</td>\n",
       "      <td>122</td>\n",
       "      <td>58</td>\n",
       "      <td>96</td>\n",
       "      <td>0</td>\n",
       "    </tr>\n",
       "    <tr>\n",
       "      <th>1</th>\n",
       "      <td>1381452</td>\n",
       "      <td>Germany</td>\n",
       "      <td>0</td>\n",
       "      <td>1</td>\n",
       "      <td>3</td>\n",
       "      <td>0</td>\n",
       "      <td>1</td>\n",
       "      <td>122</td>\n",
       "      <td>58</td>\n",
       "      <td>96</td>\n",
       "      <td>1</td>\n",
       "    </tr>\n",
       "    <tr>\n",
       "      <th>2</th>\n",
       "      <td>1381452</td>\n",
       "      <td>Germany</td>\n",
       "      <td>0</td>\n",
       "      <td>2</td>\n",
       "      <td>4</td>\n",
       "      <td>0</td>\n",
       "      <td>1</td>\n",
       "      <td>122</td>\n",
       "      <td>58</td>\n",
       "      <td>96</td>\n",
       "      <td>2</td>\n",
       "    </tr>\n",
       "    <tr>\n",
       "      <th>3</th>\n",
       "      <td>1381452</td>\n",
       "      <td>Germany</td>\n",
       "      <td>0</td>\n",
       "      <td>3</td>\n",
       "      <td>4</td>\n",
       "      <td>0</td>\n",
       "      <td>1</td>\n",
       "      <td>122</td>\n",
       "      <td>58</td>\n",
       "      <td>96</td>\n",
       "      <td>3</td>\n",
       "    </tr>\n",
       "    <tr>\n",
       "      <th>4</th>\n",
       "      <td>1381452</td>\n",
       "      <td>Germany</td>\n",
       "      <td>0</td>\n",
       "      <td>4</td>\n",
       "      <td>6</td>\n",
       "      <td>0</td>\n",
       "      <td>1</td>\n",
       "      <td>122</td>\n",
       "      <td>58</td>\n",
       "      <td>96</td>\n",
       "      <td>4</td>\n",
       "    </tr>\n",
       "  </tbody>\n",
       "</table>\n",
       "</div>"
      ],
      "text/plain": [
       "   match code  country  over  ball  score  total wickets  win  target  \\\n",
       "0     1381452  Germany     0     0      2              0    1     122   \n",
       "1     1381452  Germany     0     1      3              0    1     122   \n",
       "2     1381452  Germany     0     2      4              0    1     122   \n",
       "3     1381452  Germany     0     3      4              0    1     122   \n",
       "4     1381452  Germany     0     4      6              0    1     122   \n",
       "\n",
       "   other rating  rating  balls  \n",
       "0            58      96      0  \n",
       "1            58      96      1  \n",
       "2            58      96      2  \n",
       "3            58      96      3  \n",
       "4            58      96      4  "
      ]
     },
     "execution_count": 416,
     "metadata": {},
     "output_type": "execute_result"
    }
   ],
   "source": [
    "# Load the required data\n",
    "win_pred_data = pd.read_csv(r\"../Resources/win_pred_data.csv\")\n",
    "win_pred_data.head()"
   ]
  },
  {
   "cell_type": "code",
   "execution_count": 417,
   "id": "e36cc2f9-829e-41cc-9991-b74ba7527e6d",
   "metadata": {},
   "outputs": [
    {
     "name": "stdout",
     "output_type": "stream",
     "text": [
      "(1622, 120, 6)\n",
      "(1622, 120, 1)\n"
     ]
    }
   ],
   "source": [
    "# Now to convert them to numpy arrays\n",
    "innings = win_pred_data.groupby('match code')\n",
    "# Create lists to store input sequences and target outputs\n",
    "input_sequences = []\n",
    "target_outputs = []\n",
    "\n",
    "# Iterate over innings and create sequences\n",
    "for inning, inning_data in innings:\n",
    "    # Select relevant features for input sequence and target output\n",
    "    input_features = inning_data[['balls', 'score', 'target', 'total wickets','rating', 'other rating']].values\n",
    "\n",
    "    # Pad or truncate sequences to length 120\n",
    "    if len(input_features) >= 120:\n",
    "        input_features = input_features[:120]\n",
    "    else:\n",
    "        input_features = np.pad(input_features, ((0, 120 - len(input_features)), (0,0)), mode='constant')\n",
    "\n",
    "    # Get the win for the inning\n",
    "    win = inning_data['win'].values[-1]\n",
    "    \n",
    "    # Create target output array of shape (120, 1)\n",
    "    target_output = np.full((120, 1), win)\n",
    "    \n",
    "    # Append sequences to the lists\n",
    "    input_sequences.append(input_features)\n",
    "    target_outputs.append(target_output)\n",
    "\n",
    "X = np.array(input_sequences)\n",
    "print(X.shape)\n",
    "Y = np.array(target_outputs)\n",
    "print(Y.shape)"
   ]
  },
  {
   "cell_type": "code",
   "execution_count": 418,
   "id": "c35c319d-f45a-4d0e-b8b3-371d1b944415",
   "metadata": {},
   "outputs": [
    {
     "name": "stdout",
     "output_type": "stream",
     "text": [
      "(1297, 120, 6) (162, 120, 6) (163, 120, 6)\n",
      "(1297, 120, 1) (162, 120, 1) (163, 120, 1)\n"
     ]
    }
   ],
   "source": [
    "# Split into train/dev and test sets\n",
    "X = X.reshape(-1,720)\n",
    "Y = Y.reshape(-1,120)\n",
    "\n",
    "X_train, X_temp, Y_train, Y_temp = train_test_split(X, Y, test_size=0.2, stratify=Y, random_state=42)\n",
    "X_dev, X_test, Y_dev, Y_test = train_test_split(X_temp, Y_temp, test_size=0.5, stratify=Y_temp, random_state=42)\n",
    "\n",
    "X_train = X_train.reshape(-1,120,6)\n",
    "X_dev = X_dev.reshape(-1,120,6)\n",
    "X_test = X_test.reshape(-1,120,6)\n",
    "Y_train = Y_train.reshape(-1,120,1)\n",
    "Y_dev = Y_dev.reshape(-1,120,1)\n",
    "Y_test = Y_test.reshape(-1,120,1)\n",
    "print(X_train.shape, X_dev.shape, X_test.shape)\n",
    "print(Y_train.shape, Y_dev.shape, Y_test.shape)"
   ]
  },
  {
   "cell_type": "code",
   "execution_count": 262,
   "id": "e060971c-ef86-4804-a731-109b510bafd7",
   "metadata": {},
   "outputs": [
    {
     "name": "stdout",
     "output_type": "stream",
     "text": [
      "Model: \"sequential_4\"\n",
      "_________________________________________________________________\n",
      " Layer (type)                Output Shape              Param #   \n",
      "=================================================================\n",
      " simple_rnn_8 (SimpleRNN)    (None, 120, 128)          17152     \n",
      "                                                                 \n",
      " batch_normalization_4 (Bat  (None, 120, 128)          512       \n",
      " chNormalization)                                                \n",
      "                                                                 \n",
      " dropout_8 (Dropout)         (None, 120, 128)          0         \n",
      "                                                                 \n",
      " simple_rnn_9 (SimpleRNN)    (None, 120, 64)           12352     \n",
      "                                                                 \n",
      " dropout_9 (Dropout)         (None, 120, 64)           0         \n",
      "                                                                 \n",
      " time_distributed_4 (TimeDi  (None, 120, 1)            65        \n",
      " stributed)                                                      \n",
      "                                                                 \n",
      "=================================================================\n",
      "Total params: 30081 (117.50 KB)\n",
      "Trainable params: 29825 (116.50 KB)\n",
      "Non-trainable params: 256 (1.00 KB)\n",
      "_________________________________________________________________\n"
     ]
    }
   ],
   "source": [
    "# Create the model\n",
    "win_pred_rnn = tf.keras.Sequential([\n",
    "    tf.keras.layers.SimpleRNN(units=128, return_sequences=True, activation='relu', input_shape=(120, 6)),\n",
    "    tf.keras.layers.BatchNormalization(),\n",
    "    tf.keras.layers.Dropout(0.5),  \n",
    "    tf.keras.layers.SimpleRNN(units=64, return_sequences=True, activation='relu'),\n",
    "    tf.keras.layers.Dropout(0.5),  \n",
    "    tf.keras.layers.TimeDistributed(tf.keras.layers.Dense(units=1, activation='sigmoid'))\n",
    "])\n",
    "\n",
    "optimizer = tf.keras.optimizers.Adam(0.0001)\n",
    "# Compile the model\n",
    "win_pred_rnn.compile(optimizer=optimizer, loss='BinaryCrossentropy', metrics=['accuracy'])\n",
    "\n",
    "# Print model summary\n",
    "win_pred_rnn.summary()"
   ]
  },
  {
   "cell_type": "code",
   "execution_count": 419,
   "id": "1a03afa2-6ace-44a8-b2bc-7fb9ae8c3ccb",
   "metadata": {},
   "outputs": [],
   "source": [
    "# Load the model\n",
    "from tensorflow.keras.models import load_model\n",
    "\n",
    "win_pred_rnn = load_model(r\"../Models/win_pred_rnn_test.h5\")"
   ]
  },
  {
   "cell_type": "code",
   "execution_count": 355,
   "id": "6b3b36f7-35f0-41a5-9f6b-ee5b7d3d7732",
   "metadata": {},
   "outputs": [
    {
     "data": {
      "text/plain": [
       "<tf.Variable 'UnreadVariable' shape=() dtype=float32, numpy=1e-04>"
      ]
     },
     "execution_count": 355,
     "metadata": {},
     "output_type": "execute_result"
    }
   ],
   "source": [
    "# Change learning rate here\n",
    "optimizer.learning_rate.assign(0.0001)"
   ]
  },
  {
   "cell_type": "code",
   "execution_count": 410,
   "id": "c42ab5f4-7229-4645-a90f-fbade38f23b7",
   "metadata": {},
   "outputs": [
    {
     "name": "stdout",
     "output_type": "stream",
     "text": [
      "163/163 [==============================] - 5s 32ms/step - loss: 0.4240 - accuracy: 0.7978 - val_loss: 0.4473 - val_accuracy: 0.7926\n"
     ]
    },
    {
     "data": {
      "text/plain": [
       "<keras.src.callbacks.History at 0x1691f897a90>"
      ]
     },
     "execution_count": 410,
     "metadata": {},
     "output_type": "execute_result"
    }
   ],
   "source": [
    "# Train the model\n",
    "win_pred_rnn.fit(X_train, Y_train, epochs=1, batch_size=8, validation_data = (X_dev, Y_dev))"
   ]
  },
  {
   "cell_type": "code",
   "execution_count": 420,
   "id": "ab26aff5-3bd2-4108-9324-a7a8cbcc15b0",
   "metadata": {},
   "outputs": [
    {
     "name": "stdout",
     "output_type": "stream",
     "text": [
      "6/6 [==============================] - 0s 14ms/step\n",
      "Accuracy: 95.09\n"
     ]
    }
   ],
   "source": [
    "threshold = 119\n",
    "Y_test_acc = Y_test[:,threshold:,:].reshape(-1, 1)\n",
    "predictions = win_pred_rnn.predict(X_test)[:,threshold:,:].reshape(-1, 1) >= 0.5\n",
    "test_acc = np.sum((Y_test_acc == predictions)) / (Y_test_acc.shape[0])\n",
    "print(f\"Accuracy: {test_acc * 100:.2f}\")\n"
   ]
  },
  {
   "cell_type": "code",
   "execution_count": 421,
   "id": "1af91725-6512-4435-95af-2ca6a35fe2b4",
   "metadata": {},
   "outputs": [
    {
     "name": "stdout",
     "output_type": "stream",
     "text": [
      "6/6 [==============================] - 0s 15ms/step - loss: 0.3662 - accuracy: 0.8397\n"
     ]
    },
    {
     "data": {
      "text/plain": [
       "[0.36622539162635803, 0.8397239446640015]"
      ]
     },
     "execution_count": 421,
     "metadata": {},
     "output_type": "execute_result"
    }
   ],
   "source": [
    "win_pred_rnn.evaluate(X_test,Y_test)"
   ]
  },
  {
   "cell_type": "code",
   "execution_count": 422,
   "id": "61b893ee-3f5d-43df-b5ae-afbeafb749d8",
   "metadata": {},
   "outputs": [
    {
     "name": "stdout",
     "output_type": "stream",
     "text": [
      "[12, 25, 45, 84, 112, 122, 134, 159]\n"
     ]
    }
   ],
   "source": [
    "# Get all those examples where the model is mis-predicting\n",
    "mis_pred = []\n",
    "preds = win_pred_rnn.predict(X_test, verbose = False)\n",
    "for i in range(len(X_test)):\n",
    "    if Y_test[i,119,0] != (preds[i,119,0] >= 0.5):\n",
    "        mis_pred.append(i)\n",
    "print(mis_pred)"
   ]
  },
  {
   "cell_type": "code",
   "execution_count": 423,
   "id": "09d5be1d-585a-41da-a755-97e146da07ae",
   "metadata": {},
   "outputs": [
    {
     "name": "stdout",
     "output_type": "stream",
     "text": [
      "[[  0   0 187   0 242 264]\n",
      " [  1   1 187   0 242 264]\n",
      " [  2   1 187   0 242 264]\n",
      " [  3   6 187   0 242 264]\n",
      " [  4   7 187   0 242 264]\n",
      " [  5   7 187   0 242 264]\n",
      " [  6   8 187   0 242 264]\n",
      " [  7   8 187   0 242 264]\n",
      " [  8   9 187   0 242 264]\n",
      " [  9   9 187   0 242 264]\n",
      " [ 10  10 187   0 242 264]\n",
      " [ 11  14 187   0 242 264]\n",
      " [ 12  15 187   0 242 264]\n",
      " [ 13  15 187   0 242 264]\n",
      " [ 14  17 187   0 242 264]\n",
      " [ 15  17 187   0 242 264]\n",
      " [ 16  18 187   0 242 264]\n",
      " [ 17  22 187   0 242 264]\n",
      " [ 18  23 187   0 242 264]\n",
      " [ 19  24 187   0 242 264]\n",
      " [ 20  25 187   0 242 264]\n",
      " [ 21  26 187   0 242 264]\n",
      " [ 22  27 187   0 242 264]\n",
      " [ 23  27 187   0 242 264]\n",
      " [ 24  28 187   0 242 264]\n",
      " [ 25  30 187   0 242 264]\n",
      " [ 26  34 187   0 242 264]\n",
      " [ 27  34 187   0 242 264]\n",
      " [ 28  34 187   0 242 264]\n",
      " [ 29  34 187   0 242 264]\n",
      " [ 30  34 187   1 242 264]\n",
      " [ 31  38 187   1 242 264]\n",
      " [ 32  39 187   1 242 264]\n",
      " [ 33  40 187   1 242 264]\n",
      " [ 34  41 187   1 242 264]\n",
      " [ 35  41 187   1 242 264]\n",
      " [ 36  47 187   1 242 264]\n",
      " [ 37  51 187   1 242 264]\n",
      " [ 38  52 187   1 242 264]\n",
      " [ 39  53 187   1 242 264]\n",
      " [ 40  53 187   1 242 264]\n",
      " [ 41  54 187   1 242 264]\n",
      " [ 42  55 187   1 242 264]\n",
      " [ 43  55 187   1 242 264]\n",
      " [ 44  56 187   1 242 264]\n",
      " [ 45  56 187   1 242 264]\n",
      " [ 46  57 187   1 242 264]\n",
      " [ 47  58 187   1 242 264]\n",
      " [ 48  59 187   1 242 264]\n",
      " [ 49  59 187   1 242 264]\n",
      " [ 50  59 187   2 242 264]\n",
      " [ 51  60 187   2 242 264]\n",
      " [ 52  60 187   2 242 264]\n",
      " [ 53  60 187   2 242 264]\n",
      " [ 54  61 187   2 242 264]\n",
      " [ 55  62 187   2 242 264]\n",
      " [ 56  68 187   2 242 264]\n",
      " [ 57  69 187   2 242 264]\n",
      " [ 58  73 187   2 242 264]\n",
      " [ 59  73 187   2 242 264]\n",
      " [ 60  73 187   2 242 264]\n",
      " [ 61  73 187   2 242 264]\n",
      " [ 62  74 187   2 242 264]\n",
      " [ 63  76 187   2 242 264]\n",
      " [ 64  77 187   2 242 264]\n",
      " [ 65  78 187   2 242 264]\n",
      " [ 66  79 187   2 242 264]\n",
      " [ 67  83 187   2 242 264]\n",
      " [ 68  83 187   2 242 264]\n",
      " [ 69  84 187   2 242 264]\n",
      " [ 70  90 187   2 242 264]\n",
      " [ 71  91 187   2 242 264]\n",
      " [ 72  91 187   2 242 264]\n",
      " [ 73  93 187   2 242 264]\n",
      " [ 74  94 187   2 242 264]\n",
      " [ 75 100 187   2 242 264]\n",
      " [ 76 101 187   2 242 264]\n",
      " [ 77 102 187   2 242 264]\n",
      " [ 78 103 187   2 242 264]\n",
      " [ 79 104 187   2 242 264]\n",
      " [ 80 105 187   2 242 264]\n",
      " [ 81 106 187   2 242 264]\n",
      " [ 82 110 187   2 242 264]\n",
      " [ 83 111 187   2 242 264]\n",
      " [ 84 113 187   2 242 264]\n",
      " [ 85 115 187   2 242 264]\n",
      " [ 86 119 187   2 242 264]\n",
      " [ 87 120 187   2 242 264]\n",
      " [ 88 124 187   2 242 264]\n",
      " [ 89 124 187   2 242 264]\n",
      " [ 90 124 187   2 242 264]\n",
      " [ 91 125 187   2 242 264]\n",
      " [ 92 126 187   2 242 264]\n",
      " [ 93 130 187   2 242 264]\n",
      " [ 94 131 187   2 242 264]\n",
      " [ 95 133 187   2 242 264]\n",
      " [ 96 134 187   2 242 264]\n",
      " [ 97 136 187   2 242 264]\n",
      " [ 98 142 187   2 242 264]\n",
      " [ 99 143 187   2 242 264]\n",
      " [100 149 187   2 242 264]\n",
      " [101 150 187   2 242 264]\n",
      " [102 151 187   2 242 264]\n",
      " [103 152 187   2 242 264]\n",
      " [104 152 187   2 242 264]\n",
      " [105 153 187   2 242 264]\n",
      " [106 154 187   2 242 264]\n",
      " [107 158 187   2 242 264]\n",
      " [108 159 187   2 242 264]\n",
      " [109 159 187   2 242 264]\n",
      " [110 159 187   3 242 264]\n",
      " [111 160 187   3 242 264]\n",
      " [112 161 187   3 242 264]\n",
      " [113 162 187   3 242 264]\n",
      " [114 163 187   3 242 264]\n",
      " [115 164 187   3 242 264]\n",
      " [116 170 187   3 242 264]\n",
      " [117 176 187   3 242 264]\n",
      " [118 177 187   3 242 264]\n",
      " [119 178 187   3 242 264]] [[0]\n",
      " [0]\n",
      " [0]\n",
      " [0]\n",
      " [0]\n",
      " [0]\n",
      " [0]\n",
      " [0]\n",
      " [0]\n",
      " [0]\n",
      " [0]\n",
      " [0]\n",
      " [0]\n",
      " [0]\n",
      " [0]\n",
      " [0]\n",
      " [0]\n",
      " [0]\n",
      " [0]\n",
      " [0]\n",
      " [0]\n",
      " [0]\n",
      " [0]\n",
      " [0]\n",
      " [0]\n",
      " [0]\n",
      " [0]\n",
      " [0]\n",
      " [0]\n",
      " [0]\n",
      " [0]\n",
      " [0]\n",
      " [0]\n",
      " [0]\n",
      " [0]\n",
      " [0]\n",
      " [0]\n",
      " [0]\n",
      " [0]\n",
      " [0]\n",
      " [0]\n",
      " [0]\n",
      " [0]\n",
      " [0]\n",
      " [0]\n",
      " [0]\n",
      " [0]\n",
      " [0]\n",
      " [0]\n",
      " [0]\n",
      " [0]\n",
      " [0]\n",
      " [0]\n",
      " [0]\n",
      " [0]\n",
      " [0]\n",
      " [0]\n",
      " [0]\n",
      " [0]\n",
      " [0]\n",
      " [0]\n",
      " [0]\n",
      " [0]\n",
      " [0]\n",
      " [0]\n",
      " [0]\n",
      " [0]\n",
      " [0]\n",
      " [0]\n",
      " [0]\n",
      " [0]\n",
      " [0]\n",
      " [0]\n",
      " [0]\n",
      " [0]\n",
      " [0]\n",
      " [0]\n",
      " [0]\n",
      " [0]\n",
      " [0]\n",
      " [0]\n",
      " [0]\n",
      " [0]\n",
      " [0]\n",
      " [0]\n",
      " [0]\n",
      " [0]\n",
      " [0]\n",
      " [0]\n",
      " [0]\n",
      " [0]\n",
      " [0]\n",
      " [0]\n",
      " [0]\n",
      " [0]\n",
      " [0]\n",
      " [0]\n",
      " [0]\n",
      " [0]\n",
      " [0]\n",
      " [0]\n",
      " [0]\n",
      " [0]\n",
      " [0]\n",
      " [0]\n",
      " [0]\n",
      " [0]\n",
      " [0]\n",
      " [0]\n",
      " [0]\n",
      " [0]\n",
      " [0]\n",
      " [0]\n",
      " [0]\n",
      " [0]\n",
      " [0]\n",
      " [0]\n",
      " [0]\n",
      " [0]\n",
      " [0]]\n",
      "6/6 [==============================] - 0s 14ms/step\n"
     ]
    },
    {
     "data": {
      "text/plain": [
       "array([[0.3598092 ],\n",
       "       [0.27351868],\n",
       "       [0.17138234],\n",
       "       [0.16211498],\n",
       "       [0.17856689],\n",
       "       [0.1744372 ],\n",
       "       [0.15639506],\n",
       "       [0.14102532],\n",
       "       [0.12709607],\n",
       "       [0.11240356],\n",
       "       [0.10424384],\n",
       "       [0.10288802],\n",
       "       [0.10641194],\n",
       "       [0.10946681],\n",
       "       [0.11179678],\n",
       "       [0.11304229],\n",
       "       [0.11406986],\n",
       "       [0.11880958],\n",
       "       [0.12558642],\n",
       "       [0.1314778 ],\n",
       "       [0.13488178],\n",
       "       [0.13686529],\n",
       "       [0.13895227],\n",
       "       [0.13875094],\n",
       "       [0.13751924],\n",
       "       [0.1383145 ],\n",
       "       [0.14563726],\n",
       "       [0.1541794 ],\n",
       "       [0.15795791],\n",
       "       [0.15625969],\n",
       "       [0.14541565],\n",
       "       [0.13857119],\n",
       "       [0.1353137 ],\n",
       "       [0.13162254],\n",
       "       [0.12810111],\n",
       "       [0.12435809],\n",
       "       [0.1278653 ],\n",
       "       [0.13808104],\n",
       "       [0.14846848],\n",
       "       [0.15470426],\n",
       "       [0.15615417],\n",
       "       [0.15694253],\n",
       "       [0.15780129],\n",
       "       [0.15627824],\n",
       "       [0.15386875],\n",
       "       [0.14998177],\n",
       "       [0.14659256],\n",
       "       [0.14350915],\n",
       "       [0.14029506],\n",
       "       [0.13621758],\n",
       "       [0.12397455],\n",
       "       [0.11023919],\n",
       "       [0.09837873],\n",
       "       [0.08776601],\n",
       "       [0.07869318],\n",
       "       [0.07175232],\n",
       "       [0.07123629],\n",
       "       [0.07313891],\n",
       "       [0.07825574],\n",
       "       [0.08231585],\n",
       "       [0.08517017],\n",
       "       [0.08560413],\n",
       "       [0.08551063],\n",
       "       [0.08669604],\n",
       "       [0.0880876 ],\n",
       "       [0.08925974],\n",
       "       [0.0901287 ],\n",
       "       [0.09415225],\n",
       "       [0.09819138],\n",
       "       [0.10134193],\n",
       "       [0.10819696],\n",
       "       [0.11654116],\n",
       "       [0.12374727],\n",
       "       [0.12761284],\n",
       "       [0.13032219],\n",
       "       [0.13987927],\n",
       "       [0.1500458 ],\n",
       "       [0.15822972],\n",
       "       [0.16317648],\n",
       "       [0.16738507],\n",
       "       [0.17097262],\n",
       "       [0.17380433],\n",
       "       [0.18010813],\n",
       "       [0.18843946],\n",
       "       [0.19975601],\n",
       "       [0.21300451],\n",
       "       [0.23262458],\n",
       "       [0.2560709 ],\n",
       "       [0.28491628],\n",
       "       [0.31413382],\n",
       "       [0.34141123],\n",
       "       [0.3646137 ],\n",
       "       [0.3874107 ],\n",
       "       [0.41785774],\n",
       "       [0.45822957],\n",
       "       [0.49828497],\n",
       "       [0.5290484 ],\n",
       "       [0.55375826],\n",
       "       [0.58242476],\n",
       "       [0.59936833],\n",
       "       [0.6206632 ],\n",
       "       [0.635495  ],\n",
       "       [0.644167  ],\n",
       "       [0.64669555],\n",
       "       [0.6426315 ],\n",
       "       [0.6348824 ],\n",
       "       [0.6266561 ],\n",
       "       [0.62193644],\n",
       "       [0.61904764],\n",
       "       [0.61755115],\n",
       "       [0.6095952 ],\n",
       "       [0.5954304 ],\n",
       "       [0.5808091 ],\n",
       "       [0.56586874],\n",
       "       [0.54952157],\n",
       "       [0.53384924],\n",
       "       [0.52765775],\n",
       "       [0.53847545],\n",
       "       [0.56167305],\n",
       "       [0.5926975 ]], dtype=float32)"
      ]
     },
     "execution_count": 423,
     "metadata": {},
     "output_type": "execute_result"
    }
   ],
   "source": [
    "num = 12\n",
    "print(X_test[num], Y_test[num])\n",
    "win_pred_rnn.predict(X_test)[num]"
   ]
  },
  {
   "cell_type": "code",
   "execution_count": 258,
   "id": "cceda7af-6aad-4e4f-a435-949777db0678",
   "metadata": {},
   "outputs": [],
   "source": [
    "#Save the model\n",
    "#win_pred_rnn.save(r\"../Models/win_pred_rnn_test.h5\")"
   ]
  },
  {
   "cell_type": "markdown",
   "id": "cbbeaa09-bd1a-4fff-bfa7-fd7d94392fb9",
   "metadata": {},
   "source": [
    "## Using the model to make predictions\n",
    "Now to show how the model will be used to make predictions that are updated based on new information retrieved from every ball\n"
   ]
  },
  {
   "cell_type": "code",
   "execution_count": 424,
   "id": "2f977099-4e75-4a28-a998-343ee6659459",
   "metadata": {},
   "outputs": [
    {
     "name": "stdout",
     "output_type": "stream",
     "text": [
      "Model: \"sequential_10\"\n",
      "_________________________________________________________________\n",
      " Layer (type)                Output Shape              Param #   \n",
      "=================================================================\n",
      " simple_rnn_20 (SimpleRNN)   (None, 120, 128)          17280     \n",
      "                                                                 \n",
      " batch_normalization_4 (Bat  (None, 120, 128)          512       \n",
      " chNormalization)                                                \n",
      "                                                                 \n",
      " dropout_20 (Dropout)        (None, 120, 128)          0         \n",
      "                                                                 \n",
      " simple_rnn_21 (SimpleRNN)   (None, 120, 64)           12352     \n",
      "                                                                 \n",
      " dropout_21 (Dropout)        (None, 120, 64)           0         \n",
      "                                                                 \n",
      " time_distributed_10 (TimeD  (None, 120, 1)            65        \n",
      " istributed)                                                     \n",
      "                                                                 \n",
      "=================================================================\n",
      "Total params: 30209 (118.00 KB)\n",
      "Trainable params: 29953 (117.00 KB)\n",
      "Non-trainable params: 256 (1.00 KB)\n",
      "_________________________________________________________________\n"
     ]
    }
   ],
   "source": [
    "# Load the model\n",
    "import numpy as np\n",
    "from tensorflow.keras.models import load_model\n",
    "\n",
    "win_pred_rnn = load_model(r\"../Models/win_pred_rnn_test.h5\")\n",
    "win_pred_rnn.summary()"
   ]
  },
  {
   "cell_type": "code",
   "execution_count": 428,
   "id": "5755e678-6569-4513-81a1-8e7efe3eacda",
   "metadata": {},
   "outputs": [
    {
     "name": "stdout",
     "output_type": "stream",
     "text": [
      "Starting the Match...\n"
     ]
    },
    {
     "name": "stdin",
     "output_type": "stream",
     "text": [
      "Enter the rating of the country currently batting:  193\n",
      "Enter the rating of the other country:  264\n",
      "Enter the target to be chased:  186\n",
      "Enter the score and wickets after ball 1 separated by space:  0 0\n"
     ]
    },
    {
     "name": "stdout",
     "output_type": "stream",
     "text": [
      "The current prediction of win %age is:  32.65 %\n"
     ]
    },
    {
     "name": "stdin",
     "output_type": "stream",
     "text": [
      "Enter the score and wickets after ball 2 separated by space:  0 0\n"
     ]
    },
    {
     "name": "stdout",
     "output_type": "stream",
     "text": [
      "The current prediction of win %age is:  15.50 %\n"
     ]
    },
    {
     "name": "stdin",
     "output_type": "stream",
     "text": [
      "Enter the score and wickets after ball 3 separated by space:  5 0\n"
     ]
    },
    {
     "name": "stdout",
     "output_type": "stream",
     "text": [
      "The current prediction of win %age is:  8.57 %\n"
     ]
    },
    {
     "name": "stdin",
     "output_type": "stream",
     "text": [
      "Enter the score and wickets after ball 4 separated by space:  5 0\n"
     ]
    },
    {
     "name": "stdout",
     "output_type": "stream",
     "text": [
      "The current prediction of win %age is:  7.72 %\n"
     ]
    },
    {
     "name": "stdin",
     "output_type": "stream",
     "text": [
      "Enter the score and wickets after ball 5 separated by space:  5 0\n"
     ]
    },
    {
     "name": "stdout",
     "output_type": "stream",
     "text": [
      "The current prediction of win %age is:  7.43 %\n"
     ]
    },
    {
     "name": "stdin",
     "output_type": "stream",
     "text": [
      "Enter the score and wickets after ball 6 separated by space:  8 0\n"
     ]
    },
    {
     "name": "stdout",
     "output_type": "stream",
     "text": [
      "The current prediction of win %age is:  5.34 %\n"
     ]
    },
    {
     "name": "stdin",
     "output_type": "stream",
     "text": [
      "Enter the score and wickets after ball 7 separated by space:  13 0\n"
     ]
    },
    {
     "name": "stdout",
     "output_type": "stream",
     "text": [
      "The current prediction of win %age is:  4.59 %\n"
     ]
    },
    {
     "name": "stdin",
     "output_type": "stream",
     "text": [
      "Enter the score and wickets after ball 8 separated by space:  13 0\n"
     ]
    },
    {
     "name": "stdout",
     "output_type": "stream",
     "text": [
      "The current prediction of win %age is:  4.44 %\n"
     ]
    },
    {
     "name": "stdin",
     "output_type": "stream",
     "text": [
      "Enter the score and wickets after ball 9 separated by space:  17 0\n"
     ]
    },
    {
     "name": "stdout",
     "output_type": "stream",
     "text": [
      "The current prediction of win %age is:  4.11 %\n"
     ]
    },
    {
     "name": "stdin",
     "output_type": "stream",
     "text": [
      "Enter the score and wickets after ball 10 separated by space:  18 0\n"
     ]
    },
    {
     "name": "stdout",
     "output_type": "stream",
     "text": [
      "The current prediction of win %age is:  3.81 %\n"
     ]
    },
    {
     "name": "stdin",
     "output_type": "stream",
     "text": [
      "Enter the score and wickets after ball 11 separated by space:  18 0\n"
     ]
    },
    {
     "name": "stdout",
     "output_type": "stream",
     "text": [
      "The current prediction of win %age is:  3.70 %\n"
     ]
    },
    {
     "name": "stdin",
     "output_type": "stream",
     "text": [
      "Enter the score and wickets after ball 12 separated by space:  18 0\n"
     ]
    },
    {
     "name": "stdout",
     "output_type": "stream",
     "text": [
      "The current prediction of win %age is:  3.57 %\n"
     ]
    },
    {
     "name": "stdin",
     "output_type": "stream",
     "text": [
      "Enter the score and wickets after ball 13 separated by space:  19 0\n"
     ]
    },
    {
     "name": "stdout",
     "output_type": "stream",
     "text": [
      "The current prediction of win %age is:  3.46 %\n"
     ]
    },
    {
     "name": "stdin",
     "output_type": "stream",
     "text": [
      "Enter the score and wickets after ball 14 separated by space:  19 0\n"
     ]
    },
    {
     "name": "stdout",
     "output_type": "stream",
     "text": [
      "The current prediction of win %age is:  3.37 %\n"
     ]
    },
    {
     "name": "stdin",
     "output_type": "stream",
     "text": [
      "Enter the score and wickets after ball 15 separated by space:  19 1\n"
     ]
    },
    {
     "name": "stdout",
     "output_type": "stream",
     "text": [
      "The current prediction of win %age is:  3.13 %\n"
     ]
    },
    {
     "name": "stdin",
     "output_type": "stream",
     "text": [
      "Enter the score and wickets after ball 16 separated by space:  19 1\n"
     ]
    },
    {
     "name": "stdout",
     "output_type": "stream",
     "text": [
      "The current prediction of win %age is:  2.84 %\n"
     ]
    },
    {
     "name": "stdin",
     "output_type": "stream",
     "text": [
      "Enter the score and wickets after ball 17 separated by space:  19 1\n"
     ]
    },
    {
     "name": "stdout",
     "output_type": "stream",
     "text": [
      "The current prediction of win %age is:  2.59 %\n"
     ]
    },
    {
     "name": "stdin",
     "output_type": "stream",
     "text": [
      "Enter the score and wickets after ball 18 separated by space:  19 2\n"
     ]
    },
    {
     "name": "stdout",
     "output_type": "stream",
     "text": [
      "The current prediction of win %age is:  2.31 %\n"
     ]
    },
    {
     "name": "stdin",
     "output_type": "stream",
     "text": [
      "Enter the score and wickets after ball 19 separated by space:  19 2\n"
     ]
    },
    {
     "name": "stdout",
     "output_type": "stream",
     "text": [
      "The current prediction of win %age is:  2.08 %\n"
     ]
    },
    {
     "name": "stdin",
     "output_type": "stream",
     "text": [
      "Enter the score and wickets after ball 20 separated by space:  20 2\n"
     ]
    },
    {
     "name": "stdout",
     "output_type": "stream",
     "text": [
      "The current prediction of win %age is:  1.94 %\n"
     ]
    },
    {
     "name": "stdin",
     "output_type": "stream",
     "text": [
      "Enter the score and wickets after ball 21 separated by space:  20 2\n"
     ]
    },
    {
     "name": "stdout",
     "output_type": "stream",
     "text": [
      "The current prediction of win %age is:  1.86 %\n"
     ]
    },
    {
     "name": "stdin",
     "output_type": "stream",
     "text": [
      "Enter the score and wickets after ball 22 separated by space:  20 2\n"
     ]
    },
    {
     "name": "stdout",
     "output_type": "stream",
     "text": [
      "The current prediction of win %age is:  1.82 %\n"
     ]
    },
    {
     "name": "stdin",
     "output_type": "stream",
     "text": [
      "Enter the score and wickets after ball 23 separated by space:  20 2\n"
     ]
    },
    {
     "name": "stdout",
     "output_type": "stream",
     "text": [
      "The current prediction of win %age is:  1.80 %\n"
     ]
    },
    {
     "name": "stdin",
     "output_type": "stream",
     "text": [
      "Enter the score and wickets after ball 24 separated by space:  22 2\n"
     ]
    },
    {
     "name": "stdout",
     "output_type": "stream",
     "text": [
      "The current prediction of win %age is:  1.83 %\n"
     ]
    },
    {
     "name": "stdin",
     "output_type": "stream",
     "text": [
      "Enter the score and wickets after ball 25 separated by space:  22 2\n"
     ]
    },
    {
     "name": "stdout",
     "output_type": "stream",
     "text": [
      "The current prediction of win %age is:  1.87 %\n"
     ]
    },
    {
     "name": "stdin",
     "output_type": "stream",
     "text": [
      "Enter the score and wickets after ball 26 separated by space:  22 2\n"
     ]
    },
    {
     "name": "stdout",
     "output_type": "stream",
     "text": [
      "The current prediction of win %age is:  1.90 %\n"
     ]
    },
    {
     "name": "stdin",
     "output_type": "stream",
     "text": [
      "Enter the score and wickets after ball 27 separated by space:  22 2\n"
     ]
    },
    {
     "name": "stdout",
     "output_type": "stream",
     "text": [
      "The current prediction of win %age is:  1.90 %\n"
     ]
    },
    {
     "name": "stdin",
     "output_type": "stream",
     "text": [
      "Enter the score and wickets after ball 28 separated by space:  23 2\n"
     ]
    },
    {
     "name": "stdout",
     "output_type": "stream",
     "text": [
      "The current prediction of win %age is:  1.92 %\n"
     ]
    },
    {
     "name": "stdin",
     "output_type": "stream",
     "text": [
      "Enter the score and wickets after ball 29 separated by space:  24 2\n"
     ]
    },
    {
     "name": "stdout",
     "output_type": "stream",
     "text": [
      "The current prediction of win %age is:  1.95 %\n"
     ]
    },
    {
     "name": "stdin",
     "output_type": "stream",
     "text": [
      "Enter the score and wickets after ball 30 separated by space:  24 2\n"
     ]
    },
    {
     "name": "stdout",
     "output_type": "stream",
     "text": [
      "The current prediction of win %age is:  1.97 %\n"
     ]
    },
    {
     "name": "stdin",
     "output_type": "stream",
     "text": [
      "Enter the score and wickets after ball 31 separated by space:  28 2\n"
     ]
    },
    {
     "name": "stdout",
     "output_type": "stream",
     "text": [
      "The current prediction of win %age is:  2.04 %\n"
     ]
    },
    {
     "name": "stdin",
     "output_type": "stream",
     "text": [
      "Enter the score and wickets after ball 32 separated by space:  28 3\n"
     ]
    },
    {
     "name": "stdout",
     "output_type": "stream",
     "text": [
      "The current prediction of win %age is:  2.04 %\n"
     ]
    },
    {
     "name": "stdin",
     "output_type": "stream",
     "text": [
      "Enter the score and wickets after ball 33 separated by space:  28 3\n"
     ]
    },
    {
     "name": "stdout",
     "output_type": "stream",
     "text": [
      "The current prediction of win %age is:  1.97 %\n"
     ]
    },
    {
     "name": "stdin",
     "output_type": "stream",
     "text": [
      "Enter the score and wickets after ball 34 separated by space:  30 3\n"
     ]
    },
    {
     "name": "stdout",
     "output_type": "stream",
     "text": [
      "The current prediction of win %age is:  1.92 %\n"
     ]
    },
    {
     "name": "stdin",
     "output_type": "stream",
     "text": [
      "Enter the score and wickets after ball 35 separated by space:  30 3\n"
     ]
    },
    {
     "name": "stdout",
     "output_type": "stream",
     "text": [
      "The current prediction of win %age is:  1.88 %\n"
     ]
    },
    {
     "name": "stdin",
     "output_type": "stream",
     "text": [
      "Enter the score and wickets after ball 36 separated by space:  31 3\n"
     ]
    },
    {
     "name": "stdout",
     "output_type": "stream",
     "text": [
      "The current prediction of win %age is:  1.86 %\n"
     ]
    },
    {
     "name": "stdin",
     "output_type": "stream",
     "text": [
      "Enter the score and wickets after ball 37 separated by space:  31 3\n"
     ]
    },
    {
     "name": "stdout",
     "output_type": "stream",
     "text": [
      "The current prediction of win %age is:  1.84 %\n"
     ]
    },
    {
     "name": "stdin",
     "output_type": "stream",
     "text": [
      "Enter the score and wickets after ball 38 separated by space:  32 3\n"
     ]
    },
    {
     "name": "stdout",
     "output_type": "stream",
     "text": [
      "The current prediction of win %age is:  1.83 %\n"
     ]
    },
    {
     "name": "stdin",
     "output_type": "stream",
     "text": [
      "Enter the score and wickets after ball 39 separated by space:  36 3\n"
     ]
    },
    {
     "name": "stdout",
     "output_type": "stream",
     "text": [
      "The current prediction of win %age is:  1.88 %\n"
     ]
    },
    {
     "name": "stdin",
     "output_type": "stream",
     "text": [
      "Enter the score and wickets after ball 40 separated by space:  40 3\n"
     ]
    },
    {
     "name": "stdout",
     "output_type": "stream",
     "text": [
      "The current prediction of win %age is:  1.99 %\n"
     ]
    },
    {
     "name": "stdin",
     "output_type": "stream",
     "text": [
      "Enter the score and wickets after ball 41 separated by space:  41 3\n"
     ]
    },
    {
     "name": "stdout",
     "output_type": "stream",
     "text": [
      "The current prediction of win %age is:  2.05 %\n"
     ]
    },
    {
     "name": "stdin",
     "output_type": "stream",
     "text": [
      "Enter the score and wickets after ball 42 separated by space:  42 3\n"
     ]
    },
    {
     "name": "stdout",
     "output_type": "stream",
     "text": [
      "The current prediction of win %age is:  2.08 %\n"
     ]
    },
    {
     "name": "stdin",
     "output_type": "stream",
     "text": [
      "Enter the score and wickets after ball 43 separated by space:  42 3\n"
     ]
    },
    {
     "name": "stdout",
     "output_type": "stream",
     "text": [
      "The current prediction of win %age is:  2.07 %\n"
     ]
    },
    {
     "name": "stdin",
     "output_type": "stream",
     "text": [
      "Enter the score and wickets after ball 44 separated by space:  42 3\n"
     ]
    },
    {
     "name": "stdout",
     "output_type": "stream",
     "text": [
      "The current prediction of win %age is:  2.04 %\n"
     ]
    },
    {
     "name": "stdin",
     "output_type": "stream",
     "text": [
      "Enter the score and wickets after ball 45 separated by space:  43 3\n"
     ]
    },
    {
     "name": "stdout",
     "output_type": "stream",
     "text": [
      "The current prediction of win %age is:  2.01 %\n"
     ]
    },
    {
     "name": "stdin",
     "output_type": "stream",
     "text": [
      "Enter the score and wickets after ball 46 separated by space:  46 3\n"
     ]
    },
    {
     "name": "stdout",
     "output_type": "stream",
     "text": [
      "The current prediction of win %age is:  2.04 %\n"
     ]
    },
    {
     "name": "stdin",
     "output_type": "stream",
     "text": [
      "Enter the score and wickets after ball 47 separated by space:  47 3\n"
     ]
    },
    {
     "name": "stdout",
     "output_type": "stream",
     "text": [
      "The current prediction of win %age is:  2.05 %\n"
     ]
    },
    {
     "name": "stdin",
     "output_type": "stream",
     "text": [
      "Enter the score and wickets after ball 48 separated by space:  53 3\n"
     ]
    },
    {
     "name": "stdout",
     "output_type": "stream",
     "text": [
      "The current prediction of win %age is:  2.14 %\n"
     ]
    },
    {
     "name": "stdin",
     "output_type": "stream",
     "text": [
      "Enter the score and wickets after ball 49 separated by space:  55 3\n"
     ]
    },
    {
     "name": "stdout",
     "output_type": "stream",
     "text": [
      "The current prediction of win %age is:  2.23 %\n"
     ]
    },
    {
     "name": "stdin",
     "output_type": "stream",
     "text": [
      "Enter the score and wickets after ball 50 separated by space:  55 3\n"
     ]
    },
    {
     "name": "stdout",
     "output_type": "stream",
     "text": [
      "The current prediction of win %age is:  2.24 %\n"
     ]
    },
    {
     "name": "stdin",
     "output_type": "stream",
     "text": [
      "Enter the score and wickets after ball 51 separated by space:  55 3\n"
     ]
    },
    {
     "name": "stdout",
     "output_type": "stream",
     "text": [
      "The current prediction of win %age is:  2.18 %\n"
     ]
    },
    {
     "name": "stdin",
     "output_type": "stream",
     "text": [
      "Enter the score and wickets after ball 52 separated by space:  56 3\n"
     ]
    },
    {
     "name": "stdout",
     "output_type": "stream",
     "text": [
      "The current prediction of win %age is:  2.15 %\n"
     ]
    },
    {
     "name": "stdin",
     "output_type": "stream",
     "text": [
      "Enter the score and wickets after ball 53 separated by space:  57 3\n"
     ]
    },
    {
     "name": "stdout",
     "output_type": "stream",
     "text": [
      "The current prediction of win %age is:  2.12 %\n"
     ]
    },
    {
     "name": "stdin",
     "output_type": "stream",
     "text": [
      "Enter the score and wickets after ball 54 separated by space:  57 3\n"
     ]
    },
    {
     "name": "stdout",
     "output_type": "stream",
     "text": [
      "The current prediction of win %age is:  2.08 %\n"
     ]
    },
    {
     "name": "stdin",
     "output_type": "stream",
     "text": [
      "Enter the score and wickets after ball 55 separated by space:  58 3\n"
     ]
    },
    {
     "name": "stdout",
     "output_type": "stream",
     "text": [
      "The current prediction of win %age is:  2.02 %\n"
     ]
    },
    {
     "name": "stdin",
     "output_type": "stream",
     "text": [
      "Enter the score and wickets after ball 56 separated by space:  59 3\n"
     ]
    },
    {
     "name": "stdout",
     "output_type": "stream",
     "text": [
      "The current prediction of win %age is:  1.96 %\n"
     ]
    },
    {
     "name": "stdin",
     "output_type": "stream",
     "text": [
      "Enter the score and wickets after ball 57 separated by space:  61 3\n"
     ]
    },
    {
     "name": "stdout",
     "output_type": "stream",
     "text": [
      "The current prediction of win %age is:  1.93 %\n"
     ]
    },
    {
     "name": "stdin",
     "output_type": "stream",
     "text": [
      "Enter the score and wickets after ball 58 separated by space:  62 3\n"
     ]
    },
    {
     "name": "stdout",
     "output_type": "stream",
     "text": [
      "The current prediction of win %age is:  1.88 %\n"
     ]
    },
    {
     "name": "stdin",
     "output_type": "stream",
     "text": [
      "Enter the score and wickets after ball 59 separated by space:  63 3\n"
     ]
    },
    {
     "name": "stdout",
     "output_type": "stream",
     "text": [
      "The current prediction of win %age is:  1.83 %\n"
     ]
    },
    {
     "name": "stdin",
     "output_type": "stream",
     "text": [
      "Enter the score and wickets after ball 60 separated by space:  63 4\n"
     ]
    },
    {
     "name": "stdout",
     "output_type": "stream",
     "text": [
      "The current prediction of win %age is:  1.69 %\n"
     ]
    },
    {
     "name": "stdin",
     "output_type": "stream",
     "text": [
      "Enter the score and wickets after ball 61 separated by space:  64 4\n"
     ]
    },
    {
     "name": "stdout",
     "output_type": "stream",
     "text": [
      "The current prediction of win %age is:  1.54 %\n"
     ]
    },
    {
     "name": "stdin",
     "output_type": "stream",
     "text": [
      "Enter the score and wickets after ball 62 separated by space:  64 4\n"
     ]
    },
    {
     "name": "stdout",
     "output_type": "stream",
     "text": [
      "The current prediction of win %age is:  1.40 %\n"
     ]
    },
    {
     "name": "stdin",
     "output_type": "stream",
     "text": [
      "Enter the score and wickets after ball 63 separated by space:  65 4\n"
     ]
    },
    {
     "name": "stdout",
     "output_type": "stream",
     "text": [
      "The current prediction of win %age is:  1.27 %\n"
     ]
    },
    {
     "name": "stdin",
     "output_type": "stream",
     "text": [
      "Enter the score and wickets after ball 64 separated by space:  71 4\n"
     ]
    },
    {
     "name": "stdout",
     "output_type": "stream",
     "text": [
      "The current prediction of win %age is:  1.24 %\n"
     ]
    },
    {
     "name": "stdin",
     "output_type": "stream",
     "text": [
      "Enter the score and wickets after ball 65 separated by space:  71 4\n"
     ]
    },
    {
     "name": "stdout",
     "output_type": "stream",
     "text": [
      "The current prediction of win %age is:  1.19 %\n"
     ]
    },
    {
     "name": "stdin",
     "output_type": "stream",
     "text": [
      "Enter the score and wickets after ball 66 separated by space:  77 4\n"
     ]
    },
    {
     "name": "stdout",
     "output_type": "stream",
     "text": [
      "The current prediction of win %age is:  1.19 %\n"
     ]
    },
    {
     "name": "stdin",
     "output_type": "stream",
     "text": [
      "Enter the score and wickets after ball 67 separated by space:  78 4\n"
     ]
    },
    {
     "name": "stdout",
     "output_type": "stream",
     "text": [
      "The current prediction of win %age is:  1.17 %\n"
     ]
    },
    {
     "name": "stdin",
     "output_type": "stream",
     "text": [
      "Enter the score and wickets after ball 68 separated by space:  79 4\n"
     ]
    },
    {
     "name": "stdout",
     "output_type": "stream",
     "text": [
      "The current prediction of win %age is:  1.14 %\n"
     ]
    },
    {
     "name": "stdin",
     "output_type": "stream",
     "text": [
      "Enter the score and wickets after ball 69 separated by space:  79 4\n"
     ]
    },
    {
     "name": "stdout",
     "output_type": "stream",
     "text": [
      "The current prediction of win %age is:  1.08 %\n"
     ]
    },
    {
     "name": "stdin",
     "output_type": "stream",
     "text": [
      "Enter the score and wickets after ball 70 separated by space:  80 4\n"
     ]
    },
    {
     "name": "stdout",
     "output_type": "stream",
     "text": [
      "The current prediction of win %age is:  1.04 %\n"
     ]
    },
    {
     "name": "stdin",
     "output_type": "stream",
     "text": [
      "Enter the score and wickets after ball 71 separated by space:  80 4\n"
     ]
    },
    {
     "name": "stdout",
     "output_type": "stream",
     "text": [
      "The current prediction of win %age is:  0.99 %\n"
     ]
    },
    {
     "name": "stdin",
     "output_type": "stream",
     "text": [
      "Enter the score and wickets after ball 72 separated by space:  81 4\n"
     ]
    },
    {
     "name": "stdout",
     "output_type": "stream",
     "text": [
      "The current prediction of win %age is:  0.95 %\n"
     ]
    },
    {
     "name": "stdin",
     "output_type": "stream",
     "text": [
      "Enter the score and wickets after ball 73 separated by space:  85 4\n"
     ]
    },
    {
     "name": "stdout",
     "output_type": "stream",
     "text": [
      "The current prediction of win %age is:  0.94 %\n"
     ]
    },
    {
     "name": "stdin",
     "output_type": "stream",
     "text": [
      "Enter the score and wickets after ball 74 separated by space:  85 4\n"
     ]
    },
    {
     "name": "stdout",
     "output_type": "stream",
     "text": [
      "The current prediction of win %age is:  0.92 %\n"
     ]
    },
    {
     "name": "stdin",
     "output_type": "stream",
     "text": [
      "Enter the score and wickets after ball 75 separated by space:  86 4\n"
     ]
    },
    {
     "name": "stdout",
     "output_type": "stream",
     "text": [
      "The current prediction of win %age is:  0.89 %\n"
     ]
    },
    {
     "name": "stdin",
     "output_type": "stream",
     "text": [
      "Enter the score and wickets after ball 76 separated by space:  87 4\n"
     ]
    },
    {
     "name": "stdout",
     "output_type": "stream",
     "text": [
      "The current prediction of win %age is:  0.85 %\n"
     ]
    },
    {
     "name": "stdin",
     "output_type": "stream",
     "text": [
      "Enter the score and wickets after ball 77 separated by space:  88 4\n"
     ]
    },
    {
     "name": "stdout",
     "output_type": "stream",
     "text": [
      "The current prediction of win %age is:  0.83 %\n"
     ]
    },
    {
     "name": "stdin",
     "output_type": "stream",
     "text": [
      "Enter the score and wickets after ball 78 separated by space:  94 4\n"
     ]
    },
    {
     "name": "stdout",
     "output_type": "stream",
     "text": [
      "The current prediction of win %age is:  0.85 %\n"
     ]
    },
    {
     "name": "stdin",
     "output_type": "stream",
     "text": [
      "Enter the score and wickets after ball 79 separated by space:  94 4\n"
     ]
    },
    {
     "name": "stdout",
     "output_type": "stream",
     "text": [
      "The current prediction of win %age is:  0.85 %\n"
     ]
    },
    {
     "name": "stdin",
     "output_type": "stream",
     "text": [
      "Enter the score and wickets after ball 80 separated by space:  96 4\n"
     ]
    },
    {
     "name": "stdout",
     "output_type": "stream",
     "text": [
      "The current prediction of win %age is:  0.85 %\n"
     ]
    },
    {
     "name": "stdin",
     "output_type": "stream",
     "text": [
      "Enter the score and wickets after ball 81 separated by space:  97 4\n"
     ]
    },
    {
     "name": "stdout",
     "output_type": "stream",
     "text": [
      "The current prediction of win %age is:  0.85 %\n"
     ]
    },
    {
     "name": "stdin",
     "output_type": "stream",
     "text": [
      "Enter the score and wickets after ball 82 separated by space:  98 4\n"
     ]
    },
    {
     "name": "stdout",
     "output_type": "stream",
     "text": [
      "The current prediction of win %age is:  0.85 %\n"
     ]
    },
    {
     "name": "stdin",
     "output_type": "stream",
     "text": [
      "Enter the score and wickets after ball 83 separated by space:  100 4\n"
     ]
    },
    {
     "name": "stdout",
     "output_type": "stream",
     "text": [
      "The current prediction of win %age is:  0.87 %\n"
     ]
    },
    {
     "name": "stdin",
     "output_type": "stream",
     "text": [
      "Enter the score and wickets after ball 84 separated by space:  102 4\n"
     ]
    },
    {
     "name": "stdout",
     "output_type": "stream",
     "text": [
      "The current prediction of win %age is:  0.89 %\n"
     ]
    },
    {
     "name": "stdin",
     "output_type": "stream",
     "text": [
      "Enter the score and wickets after ball 85 separated by space:  103 4\n"
     ]
    },
    {
     "name": "stdout",
     "output_type": "stream",
     "text": [
      "The current prediction of win %age is:  0.92 %\n"
     ]
    },
    {
     "name": "stdin",
     "output_type": "stream",
     "text": [
      "Enter the score and wickets after ball 86 separated by space:  104 4\n"
     ]
    },
    {
     "name": "stdout",
     "output_type": "stream",
     "text": [
      "The current prediction of win %age is:  0.94 %\n"
     ]
    },
    {
     "name": "stdin",
     "output_type": "stream",
     "text": [
      "Enter the score and wickets after ball 87 separated by space:  105 4\n"
     ]
    },
    {
     "name": "stdout",
     "output_type": "stream",
     "text": [
      "The current prediction of win %age is:  0.96 %\n"
     ]
    },
    {
     "name": "stdin",
     "output_type": "stream",
     "text": [
      "Enter the score and wickets after ball 88 separated by space:  108 4\n"
     ]
    },
    {
     "name": "stdout",
     "output_type": "stream",
     "text": [
      "The current prediction of win %age is:  1.00 %\n"
     ]
    },
    {
     "name": "stdin",
     "output_type": "stream",
     "text": [
      "Enter the score and wickets after ball 89 separated by space:  114 4\n"
     ]
    },
    {
     "name": "stdout",
     "output_type": "stream",
     "text": [
      "The current prediction of win %age is:  1.08 %\n"
     ]
    },
    {
     "name": "stdin",
     "output_type": "stream",
     "text": [
      "Enter the score and wickets after ball 90 separated by space:  114 5\n"
     ]
    },
    {
     "name": "stdout",
     "output_type": "stream",
     "text": [
      "The current prediction of win %age is:  1.11 %\n"
     ]
    },
    {
     "name": "stdin",
     "output_type": "stream",
     "text": [
      "Enter the score and wickets after ball 91 separated by space:  116 5\n"
     ]
    },
    {
     "name": "stdout",
     "output_type": "stream",
     "text": [
      "The current prediction of win %age is:  1.13 %\n"
     ]
    },
    {
     "name": "stdin",
     "output_type": "stream",
     "text": [
      "Enter the score and wickets after ball 92 separated by space:  117 5\n"
     ]
    },
    {
     "name": "stdout",
     "output_type": "stream",
     "text": [
      "The current prediction of win %age is:  1.14 %\n"
     ]
    },
    {
     "name": "stdin",
     "output_type": "stream",
     "text": [
      "Enter the score and wickets after ball 93 separated by space:  123 5\n"
     ]
    },
    {
     "name": "stdout",
     "output_type": "stream",
     "text": [
      "The current prediction of win %age is:  1.22 %\n"
     ]
    },
    {
     "name": "stdin",
     "output_type": "stream",
     "text": [
      "Enter the score and wickets after ball 94 separated by space:  123 6\n"
     ]
    },
    {
     "name": "stdout",
     "output_type": "stream",
     "text": [
      "The current prediction of win %age is:  1.22 %\n"
     ]
    },
    {
     "name": "stdin",
     "output_type": "stream",
     "text": [
      "Enter the score and wickets after ball 95 separated by space:  123 6\n"
     ]
    },
    {
     "name": "stdout",
     "output_type": "stream",
     "text": [
      "The current prediction of win %age is:  1.20 %\n"
     ]
    },
    {
     "name": "stdin",
     "output_type": "stream",
     "text": [
      "Enter the score and wickets after ball 96 separated by space:  124 6\n"
     ]
    },
    {
     "name": "stdout",
     "output_type": "stream",
     "text": [
      "The current prediction of win %age is:  1.18 %\n"
     ]
    },
    {
     "ename": "KeyboardInterrupt",
     "evalue": "Interrupted by user",
     "output_type": "error",
     "traceback": [
      "\u001b[1;31m---------------------------------------------------------------------------\u001b[0m",
      "\u001b[1;31mKeyboardInterrupt\u001b[0m                         Traceback (most recent call last)",
      "Cell \u001b[1;32mIn[428], line 9\u001b[0m\n\u001b[0;32m      7\u001b[0m input_array \u001b[38;5;241m=\u001b[39m np\u001b[38;5;241m.\u001b[39mzeros((\u001b[38;5;241m1\u001b[39m, \u001b[38;5;241m120\u001b[39m, \u001b[38;5;241m6\u001b[39m))\n\u001b[0;32m      8\u001b[0m \u001b[38;5;28;01mfor\u001b[39;00m i \u001b[38;5;129;01min\u001b[39;00m \u001b[38;5;28mrange\u001b[39m(\u001b[38;5;241m119\u001b[39m):\n\u001b[1;32m----> 9\u001b[0m     score, wickets \u001b[38;5;241m=\u001b[39m (\u001b[38;5;28mint\u001b[39m(x) \u001b[38;5;28;01mfor\u001b[39;00m x \u001b[38;5;129;01min\u001b[39;00m \u001b[38;5;28;43minput\u001b[39;49m\u001b[43m(\u001b[49m\u001b[38;5;124;43mf\u001b[39;49m\u001b[38;5;124;43m\"\u001b[39;49m\u001b[38;5;124;43mEnter the score and wickets after ball \u001b[39;49m\u001b[38;5;132;43;01m{\u001b[39;49;00m\u001b[43mi\u001b[49m\u001b[38;5;241;43m+\u001b[39;49m\u001b[38;5;241;43m1\u001b[39;49m\u001b[38;5;132;43;01m}\u001b[39;49;00m\u001b[38;5;124;43m separated by space: \u001b[39;49m\u001b[38;5;124;43m\"\u001b[39;49m\u001b[43m)\u001b[49m\u001b[38;5;241m.\u001b[39msplit())\n\u001b[0;32m     10\u001b[0m     input_array[\u001b[38;5;241m0\u001b[39m,i,\u001b[38;5;241m0\u001b[39m], input_array[\u001b[38;5;241m0\u001b[39m,i,\u001b[38;5;241m1\u001b[39m], input_array[\u001b[38;5;241m0\u001b[39m,i,\u001b[38;5;241m2\u001b[39m] \u001b[38;5;241m=\u001b[39m (i, score, target)\n\u001b[0;32m     11\u001b[0m     input_array[\u001b[38;5;241m0\u001b[39m,i,\u001b[38;5;241m3\u001b[39m], input_array[\u001b[38;5;241m0\u001b[39m,i,\u001b[38;5;241m4\u001b[39m], input_array[\u001b[38;5;241m0\u001b[39m,i,\u001b[38;5;241m5\u001b[39m] \u001b[38;5;241m=\u001b[39m (wickets, rating, other_rating)\n",
      "File \u001b[1;32mE:\\Python\\Python39\\lib\\site-packages\\ipykernel\\kernelbase.py:1202\u001b[0m, in \u001b[0;36mKernel.raw_input\u001b[1;34m(self, prompt)\u001b[0m\n\u001b[0;32m   1200\u001b[0m     msg \u001b[38;5;241m=\u001b[39m \u001b[38;5;124m\"\u001b[39m\u001b[38;5;124mraw_input was called, but this frontend does not support input requests.\u001b[39m\u001b[38;5;124m\"\u001b[39m\n\u001b[0;32m   1201\u001b[0m     \u001b[38;5;28;01mraise\u001b[39;00m StdinNotImplementedError(msg)\n\u001b[1;32m-> 1202\u001b[0m \u001b[38;5;28;01mreturn\u001b[39;00m \u001b[38;5;28;43mself\u001b[39;49m\u001b[38;5;241;43m.\u001b[39;49m\u001b[43m_input_request\u001b[49m\u001b[43m(\u001b[49m\n\u001b[0;32m   1203\u001b[0m \u001b[43m    \u001b[49m\u001b[38;5;28;43mstr\u001b[39;49m\u001b[43m(\u001b[49m\u001b[43mprompt\u001b[49m\u001b[43m)\u001b[49m\u001b[43m,\u001b[49m\n\u001b[0;32m   1204\u001b[0m \u001b[43m    \u001b[49m\u001b[38;5;28;43mself\u001b[39;49m\u001b[38;5;241;43m.\u001b[39;49m\u001b[43m_parent_ident\u001b[49m\u001b[43m[\u001b[49m\u001b[38;5;124;43m\"\u001b[39;49m\u001b[38;5;124;43mshell\u001b[39;49m\u001b[38;5;124;43m\"\u001b[39;49m\u001b[43m]\u001b[49m\u001b[43m,\u001b[49m\n\u001b[0;32m   1205\u001b[0m \u001b[43m    \u001b[49m\u001b[38;5;28;43mself\u001b[39;49m\u001b[38;5;241;43m.\u001b[39;49m\u001b[43mget_parent\u001b[49m\u001b[43m(\u001b[49m\u001b[38;5;124;43m\"\u001b[39;49m\u001b[38;5;124;43mshell\u001b[39;49m\u001b[38;5;124;43m\"\u001b[39;49m\u001b[43m)\u001b[49m\u001b[43m,\u001b[49m\n\u001b[0;32m   1206\u001b[0m \u001b[43m    \u001b[49m\u001b[43mpassword\u001b[49m\u001b[38;5;241;43m=\u001b[39;49m\u001b[38;5;28;43;01mFalse\u001b[39;49;00m\u001b[43m,\u001b[49m\n\u001b[0;32m   1207\u001b[0m \u001b[43m\u001b[49m\u001b[43m)\u001b[49m\n",
      "File \u001b[1;32mE:\\Python\\Python39\\lib\\site-packages\\ipykernel\\kernelbase.py:1245\u001b[0m, in \u001b[0;36mKernel._input_request\u001b[1;34m(self, prompt, ident, parent, password)\u001b[0m\n\u001b[0;32m   1242\u001b[0m \u001b[38;5;28;01mexcept\u001b[39;00m \u001b[38;5;167;01mKeyboardInterrupt\u001b[39;00m:\n\u001b[0;32m   1243\u001b[0m     \u001b[38;5;66;03m# re-raise KeyboardInterrupt, to truncate traceback\u001b[39;00m\n\u001b[0;32m   1244\u001b[0m     msg \u001b[38;5;241m=\u001b[39m \u001b[38;5;124m\"\u001b[39m\u001b[38;5;124mInterrupted by user\u001b[39m\u001b[38;5;124m\"\u001b[39m\n\u001b[1;32m-> 1245\u001b[0m     \u001b[38;5;28;01mraise\u001b[39;00m \u001b[38;5;167;01mKeyboardInterrupt\u001b[39;00m(msg) \u001b[38;5;28;01mfrom\u001b[39;00m \u001b[38;5;28;01mNone\u001b[39;00m\n\u001b[0;32m   1246\u001b[0m \u001b[38;5;28;01mexcept\u001b[39;00m \u001b[38;5;167;01mException\u001b[39;00m:\n\u001b[0;32m   1247\u001b[0m     \u001b[38;5;28mself\u001b[39m\u001b[38;5;241m.\u001b[39mlog\u001b[38;5;241m.\u001b[39mwarning(\u001b[38;5;124m\"\u001b[39m\u001b[38;5;124mInvalid Message:\u001b[39m\u001b[38;5;124m\"\u001b[39m, exc_info\u001b[38;5;241m=\u001b[39m\u001b[38;5;28;01mTrue\u001b[39;00m)\n",
      "\u001b[1;31mKeyboardInterrupt\u001b[0m: Interrupted by user"
     ]
    }
   ],
   "source": [
    "# Now take input at every ball and return the updated prediction\n",
    "\n",
    "print(\"Starting the Match...\")\n",
    "rating = int(input(\"Enter the rating of the country currently batting: \"))\n",
    "other_rating = int(input(\"Enter the rating of the other country: \"))\n",
    "target = int(input(\"Enter the target to be chased: \"))\n",
    "input_array = np.zeros((1, 120, 6))\n",
    "for i in range(119):\n",
    "    score, wickets = (int(x) for x in input(f\"Enter the score and wickets after ball {i+1} separated by space: \").split())\n",
    "    input_array[0,i,0], input_array[0,i,1], input_array[0,i,2] = (i, score, target)\n",
    "    input_array[0,i,3], input_array[0,i,4], input_array[0,i,5] = (wickets, rating, other_rating)\n",
    "    print(f\"The current prediction of win %age is: {(win_pred_rnn.predict(input_array, verbose = 0)[0,i,0]) * 100: .2f} %\")"
   ]
  },
  {
   "cell_type": "code",
   "execution_count": 429,
   "id": "ed2aa81c-790f-428c-adc6-b4dff36c31b3",
   "metadata": {},
   "outputs": [
    {
     "data": {
      "text/plain": [
       "array([[[  0.,   0., 186.,   0., 193., 264.],\n",
       "        [  1.,   0., 186.,   0., 193., 264.],\n",
       "        [  2.,   5., 186.,   0., 193., 264.],\n",
       "        [  3.,   5., 186.,   0., 193., 264.],\n",
       "        [  4.,   5., 186.,   0., 193., 264.],\n",
       "        [  5.,   8., 186.,   0., 193., 264.],\n",
       "        [  6.,  13., 186.,   0., 193., 264.],\n",
       "        [  7.,  13., 186.,   0., 193., 264.],\n",
       "        [  8.,  17., 186.,   0., 193., 264.],\n",
       "        [  9.,  18., 186.,   0., 193., 264.],\n",
       "        [ 10.,  18., 186.,   0., 193., 264.],\n",
       "        [ 11.,  18., 186.,   0., 193., 264.],\n",
       "        [ 12.,  19., 186.,   0., 193., 264.],\n",
       "        [ 13.,  19., 186.,   0., 193., 264.],\n",
       "        [ 14.,  19., 186.,   1., 193., 264.],\n",
       "        [ 15.,  19., 186.,   1., 193., 264.],\n",
       "        [ 16.,  19., 186.,   1., 193., 264.],\n",
       "        [ 17.,  19., 186.,   2., 193., 264.],\n",
       "        [ 18.,  19., 186.,   2., 193., 264.],\n",
       "        [ 19.,  20., 186.,   2., 193., 264.],\n",
       "        [ 20.,  20., 186.,   2., 193., 264.],\n",
       "        [ 21.,  20., 186.,   2., 193., 264.],\n",
       "        [ 22.,  20., 186.,   2., 193., 264.],\n",
       "        [ 23.,  22., 186.,   2., 193., 264.],\n",
       "        [ 24.,  22., 186.,   2., 193., 264.],\n",
       "        [ 25.,  22., 186.,   2., 193., 264.],\n",
       "        [ 26.,  22., 186.,   2., 193., 264.],\n",
       "        [ 27.,  23., 186.,   2., 193., 264.],\n",
       "        [ 28.,  24., 186.,   2., 193., 264.],\n",
       "        [ 29.,  24., 186.,   2., 193., 264.],\n",
       "        [ 30.,  28., 186.,   2., 193., 264.],\n",
       "        [ 31.,  28., 186.,   3., 193., 264.],\n",
       "        [ 32.,  28., 186.,   3., 193., 264.],\n",
       "        [ 33.,  30., 186.,   3., 193., 264.],\n",
       "        [ 34.,  30., 186.,   3., 193., 264.],\n",
       "        [ 35.,  31., 186.,   3., 193., 264.],\n",
       "        [ 36.,  31., 186.,   3., 193., 264.],\n",
       "        [ 37.,  32., 186.,   3., 193., 264.],\n",
       "        [ 38.,  36., 186.,   3., 193., 264.],\n",
       "        [ 39.,  40., 186.,   3., 193., 264.],\n",
       "        [ 40.,  41., 186.,   3., 193., 264.],\n",
       "        [ 41.,  42., 186.,   3., 193., 264.],\n",
       "        [ 42.,  42., 186.,   3., 193., 264.],\n",
       "        [ 43.,  42., 186.,   3., 193., 264.],\n",
       "        [ 44.,  43., 186.,   3., 193., 264.],\n",
       "        [ 45.,  46., 186.,   3., 193., 264.],\n",
       "        [ 46.,  47., 186.,   3., 193., 264.],\n",
       "        [ 47.,  53., 186.,   3., 193., 264.],\n",
       "        [ 48.,  55., 186.,   3., 193., 264.],\n",
       "        [ 49.,  55., 186.,   3., 193., 264.],\n",
       "        [ 50.,  55., 186.,   3., 193., 264.],\n",
       "        [ 51.,  56., 186.,   3., 193., 264.],\n",
       "        [ 52.,  57., 186.,   3., 193., 264.],\n",
       "        [ 53.,  57., 186.,   3., 193., 264.],\n",
       "        [ 54.,  58., 186.,   3., 193., 264.],\n",
       "        [ 55.,  59., 186.,   3., 193., 264.],\n",
       "        [ 56.,  61., 186.,   3., 193., 264.],\n",
       "        [ 57.,  62., 186.,   3., 193., 264.],\n",
       "        [ 58.,  63., 186.,   3., 193., 264.],\n",
       "        [ 59.,  63., 186.,   4., 193., 264.],\n",
       "        [ 60.,  64., 186.,   4., 193., 264.],\n",
       "        [ 61.,  64., 186.,   4., 193., 264.],\n",
       "        [ 62.,  65., 186.,   4., 193., 264.],\n",
       "        [ 63.,  71., 186.,   4., 193., 264.],\n",
       "        [ 64.,  71., 186.,   4., 193., 264.],\n",
       "        [ 65.,  77., 186.,   4., 193., 264.],\n",
       "        [ 66.,  78., 186.,   4., 193., 264.],\n",
       "        [ 67.,  79., 186.,   4., 193., 264.],\n",
       "        [ 68.,  79., 186.,   4., 193., 264.],\n",
       "        [ 69.,  80., 186.,   4., 193., 264.],\n",
       "        [ 70.,  80., 186.,   4., 193., 264.],\n",
       "        [ 71.,  81., 186.,   4., 193., 264.],\n",
       "        [ 72.,  85., 186.,   4., 193., 264.],\n",
       "        [ 73.,  85., 186.,   4., 193., 264.],\n",
       "        [ 74.,  86., 186.,   4., 193., 264.],\n",
       "        [ 75.,  87., 186.,   4., 193., 264.],\n",
       "        [ 76.,  88., 186.,   4., 193., 264.],\n",
       "        [ 77.,  94., 186.,   4., 193., 264.],\n",
       "        [ 78.,  94., 186.,   4., 193., 264.],\n",
       "        [ 79.,  96., 186.,   4., 193., 264.],\n",
       "        [ 80.,  97., 186.,   4., 193., 264.],\n",
       "        [ 81.,  98., 186.,   4., 193., 264.],\n",
       "        [ 82., 100., 186.,   4., 193., 264.],\n",
       "        [ 83., 102., 186.,   4., 193., 264.],\n",
       "        [ 84., 103., 186.,   4., 193., 264.],\n",
       "        [ 85., 104., 186.,   4., 193., 264.],\n",
       "        [ 86., 105., 186.,   4., 193., 264.],\n",
       "        [ 87., 108., 186.,   4., 193., 264.],\n",
       "        [ 88., 114., 186.,   4., 193., 264.],\n",
       "        [ 89., 114., 186.,   5., 193., 264.],\n",
       "        [ 90., 116., 186.,   5., 193., 264.],\n",
       "        [ 91., 117., 186.,   5., 193., 264.],\n",
       "        [ 92., 123., 186.,   5., 193., 264.],\n",
       "        [ 93., 123., 186.,   6., 193., 264.],\n",
       "        [ 94., 123., 186.,   6., 193., 264.],\n",
       "        [ 95., 124., 186.,   6., 193., 264.],\n",
       "        [  0.,   0.,   0.,   0.,   0.,   0.],\n",
       "        [  0.,   0.,   0.,   0.,   0.,   0.],\n",
       "        [  0.,   0.,   0.,   0.,   0.,   0.],\n",
       "        [  0.,   0.,   0.,   0.,   0.,   0.],\n",
       "        [  0.,   0.,   0.,   0.,   0.,   0.],\n",
       "        [  0.,   0.,   0.,   0.,   0.,   0.],\n",
       "        [  0.,   0.,   0.,   0.,   0.,   0.],\n",
       "        [  0.,   0.,   0.,   0.,   0.,   0.],\n",
       "        [  0.,   0.,   0.,   0.,   0.,   0.],\n",
       "        [  0.,   0.,   0.,   0.,   0.,   0.],\n",
       "        [  0.,   0.,   0.,   0.,   0.,   0.],\n",
       "        [  0.,   0.,   0.,   0.,   0.,   0.],\n",
       "        [  0.,   0.,   0.,   0.,   0.,   0.],\n",
       "        [  0.,   0.,   0.,   0.,   0.,   0.],\n",
       "        [  0.,   0.,   0.,   0.,   0.,   0.],\n",
       "        [  0.,   0.,   0.,   0.,   0.,   0.],\n",
       "        [  0.,   0.,   0.,   0.,   0.,   0.],\n",
       "        [  0.,   0.,   0.,   0.,   0.,   0.],\n",
       "        [  0.,   0.,   0.,   0.,   0.,   0.],\n",
       "        [  0.,   0.,   0.,   0.,   0.,   0.],\n",
       "        [  0.,   0.,   0.,   0.,   0.,   0.],\n",
       "        [  0.,   0.,   0.,   0.,   0.,   0.],\n",
       "        [  0.,   0.,   0.,   0.,   0.,   0.],\n",
       "        [  0.,   0.,   0.,   0.,   0.,   0.]]])"
      ]
     },
     "execution_count": 429,
     "metadata": {},
     "output_type": "execute_result"
    }
   ],
   "source": [
    "input_array"
   ]
  },
  {
   "cell_type": "code",
   "execution_count": null,
   "id": "ba46e80f-9dc1-450b-af0b-e6fd88c06fe9",
   "metadata": {},
   "outputs": [],
   "source": []
  }
 ],
 "metadata": {
  "kernelspec": {
   "display_name": "Python 3 (ipykernel)",
   "language": "python",
   "name": "python3"
  },
  "language_info": {
   "codemirror_mode": {
    "name": "ipython",
    "version": 3
   },
   "file_extension": ".py",
   "mimetype": "text/x-python",
   "name": "python",
   "nbconvert_exporter": "python",
   "pygments_lexer": "ipython3",
   "version": "3.9.13"
  }
 },
 "nbformat": 4,
 "nbformat_minor": 5
}
