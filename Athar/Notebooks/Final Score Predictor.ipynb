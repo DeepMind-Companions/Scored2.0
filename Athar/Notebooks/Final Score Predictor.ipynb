{
 "cells": [
  {
   "cell_type": "markdown",
   "id": "ab70c545-fd1c-464a-bdcb-d18d8e612af8",
   "metadata": {},
   "source": [
    "# T20 Cricket Final Score Prediction using Neural Networks\n",
    "This notebook focuses on making a Machine Learning Model that is able to make Final Score Predictions in T20 format.\n",
    "\n",
    "## Packages\n",
    "The first step is to import the relevant packages."
   ]
  },
  {
   "cell_type": "code",
   "execution_count": 106,
   "id": "ca21af5c",
   "metadata": {},
   "outputs": [],
   "source": [
    "import numpy as np\n",
    "import pandas as pd\n",
    "import matplotlib.pyplot as plt\n",
    "import sklearn\n",
    "%matplotlib inline"
   ]
  },
  {
   "cell_type": "markdown",
   "id": "2a931998-db04-4a5a-98d9-9534c29872a8",
   "metadata": {},
   "source": [
    "## Activation Functions\n",
    "The next step is to define the activation functions that we will be using in the neural network"
   ]
  },
  {
   "cell_type": "code",
   "execution_count": 30,
   "id": "a2cd848c",
   "metadata": {},
   "outputs": [],
   "source": [
    "def sigmoid(Z):\n",
    "    return 1 / (1 + np.exp(-Z)) \n",
    "        \n",
    "def relu(Z):\n",
    "    return np.maximum(0, Z)\n",
    "\n",
    "def tanh(Z):\n",
    "    return np.tanh(Z)\n",
    "    \n",
    "def softmax(Z):\n",
    "    return np.exp(Z) / np.sum(np.exp(Z), axis = 0, keepdims = True)\n",
    "    "
   ]
  },
  {
   "cell_type": "markdown",
   "id": "1cae47bb-a5be-4ac9-b070-517a919d5984",
   "metadata": {},
   "source": [
    "## Neural Network\n",
    "Now we have to make the neural network. Here, I have chosen an OOP based approach, so that I can keep my models separate, so that the parameters of one model don't interfere with the parameters of another model. It also makes it easier to manage them."
   ]
  },
  {
   "cell_type": "code",
   "execution_count": 110,
   "id": "22becf3e",
   "metadata": {},
   "outputs": [],
   "source": [
    "class Neural_network():\n",
    "    '''\n",
    "    Class for a neural network.\n",
    "    '''\n",
    "    \n",
    "    def __init__(self, layer_sizes, layer_activations, learning_rate, epochs, dropout = 1, beta1 = 0.9, beta2 = 0.999, \n",
    "                 epsilon = 1e-8):\n",
    "        '''\n",
    "        initialize the neural network.\n",
    "        '''\n",
    "        self.layer_sizes = layer_sizes\n",
    "        self.layer_activations = layer_activations\n",
    "        self.learning_rate = learning_rate\n",
    "        self.dropout = dropout\n",
    "        self.epochs = epochs\n",
    "        self.beta1 = beta1\n",
    "        self.beta2 = beta2\n",
    "        self.epsilon = epsilon\n",
    "        self.train_costs = []\n",
    "        self.dev_costs = []\n",
    "        \n",
    "        # Initialize parameters of each layer\n",
    "        self.params = {}\n",
    "        for i in range(1, len(layer_sizes)):\n",
    "            self.params['W' + str(i)] = np.random.randn(layer_sizes[i], layer_sizes[i - 1]) * 0.01\n",
    "            self.params['b' + str(i)] = np.zeros((layer_sizes[i], 1))\n",
    "            \n",
    "        # Initialize velocity and stuff for Adam\n",
    "        self.v = {}\n",
    "        self.s = {}\n",
    "        \n",
    "        for i in range(1, len(layer_sizes)):\n",
    "\n",
    "            self.v[\"dW\" + str(i)] = np.zeros(self.params[\"W\" + str(i)].shape)\n",
    "            self.v[\"db\" + str(i)] = np.zeros(self.params[\"b\" + str(i)].shape)\n",
    "            self.s[\"dW\" + str(i)] = np.zeros(self.params[\"W\" + str(i)].shape)\n",
    "            self.s[\"db\" + str(i)] = np.zeros(self.params[\"b\" + str(i)].shape)\n",
    "            \n",
    "            \n",
    "    def forward_prop(self, X, dropout = False):\n",
    "        '''\n",
    "        Performs forward propagation for an iteration.\n",
    "        '''\n",
    "        \n",
    "        A_prev = X\n",
    "        Z = [0]\n",
    "        A = [A_prev]\n",
    "        self.D = []\n",
    "        \n",
    "        for i in range(1, len(self.layer_sizes)):\n",
    "            \n",
    "            Zi = np.dot(self.params['W' + str(i)], A_prev) + self.params['b' + str(i)]\n",
    "            if self.layer_activations[i - 1] == 'sigmoid':\n",
    "                A_prev = sigmoid(Zi)\n",
    "            elif self.layer_activations[i - 1] == 'relu':\n",
    "                A_prev = relu(Zi)\n",
    "            elif self.layer_activations[i - 1] == 'tanh':\n",
    "                A_prev = tanh(Zi)\n",
    "            elif self.layer_activations[i - 1] == 'linear':\n",
    "                A_prev = Zi\n",
    "            elif self.layer_activations[i - 1] == 'softmax':\n",
    "                A_prev = softmax(Zi)\n",
    "\n",
    "            # Don't apply dropout on output layer\n",
    "            if i != len(self.layer_sizes) - 1 and dropout:\n",
    "            # Apply dropout \n",
    "                Di = np.random.rand(A_prev.shape[0], A_prev.shape[1])\n",
    "                Di = (Di < self.dropout).astype(int)\n",
    "                A_prev = A_prev * Di\n",
    "                A_prev = A_prev / self.dropout\n",
    "                self.D.append(Di)\n",
    "            \n",
    "            A.append(A_prev)\n",
    "            Z.append(Zi)\n",
    "\n",
    "        return A, Z\n",
    "    \n",
    "    \n",
    "    def compute_cost(self, Y, Y_hat):\n",
    "        '''\n",
    "        Computes the cost of an iteration\n",
    "        '''\n",
    "        \n",
    "        m = Y.shape[1]\n",
    "        \n",
    "        if self.layer_activations[-1] == 'sigmoid':\n",
    "            cost = - np.sum(Y * np.log(Y_hat) + (1 - Y) * np.log(1 - Y_hat)) / m \n",
    "        elif self.layer_activations[-1] == 'linear':\n",
    "            cost = np.sum((Y_hat - Y) ** 2) / (2 * m)\n",
    "        elif self.layer_activations[-1] == 'softmax':\n",
    "            cost = - np.sum(Y * np.log(Y_hat)) / m\n",
    "        \n",
    "        return np.squeeze(cost)\n",
    "    \n",
    "    \n",
    "    def back_prop(self, X, Y, A, Z):\n",
    "        m = X.shape[1]\n",
    "        grads = {}\n",
    "        L = len(self.layer_sizes) - 1\n",
    "        \n",
    "        if self.layer_activations[-1] == 'sigmoid':\n",
    "            dAL = - (np.divide(Y, A[-1]) - np.divide(1 - Y, 1 - A[-1]))\n",
    "            dZL = A[-1] * (1 - A[-1]) * dAL\n",
    "        elif self.layer_activations[-1] == 'linear':\n",
    "            dAL = A[-1] - Y\n",
    "            dZL = dAL\n",
    "        elif self.layer_activations[-1] == 'softmax':\n",
    "            dAL = - Y / A[-1]\n",
    "            \n",
    "        A_prev = A[-2]\n",
    "        \n",
    "        grads['dW' + str(L)] = np.dot(dZL, A_prev.T) / m\n",
    "        grads['db' + str(L)] = np.sum(dZL, axis = 1, keepdims = True) / m\n",
    "        dA_prev = np.dot(self.params['W' + str(L)].T, dZL)\n",
    "        \n",
    "        for i in reversed(range(L - 1)):\n",
    "\n",
    "            dA_prev = dA_prev * self.D[i]\n",
    "            dA_prev = dA_prev / self.dropout\n",
    "            Zi = Z[i + 1]\n",
    "            if self.layer_activations[i] == 'sigmoid':\n",
    "                dZl = A_prev * (1 - A_prev) * dA_prev\n",
    "            elif self.layer_activations[i] == 'relu': \n",
    "                dZl = np.array(dA_prev, copy=True)\n",
    "                dZl[Zi <= 0] = 0\n",
    "            elif self.layer_activations[i] == 'tanh':\n",
    "                dZl = (1 - A_prev) * dA_prev\n",
    "\n",
    "            A_prev = A[i]\n",
    "            \n",
    "            grads['dW' + str(i + 1)] = np.dot(dZl, A_prev.T) / m\n",
    "            grads['db' + str(i + 1)] = np.sum(dZl, axis=1, keepdims=True) / m\n",
    "            dA_prev = np.dot(self.params['W' + str(i + 1)].T, dZl)\n",
    "            \n",
    "        return grads\n",
    "    \n",
    "\n",
    "    def fit(self, X_train, Y_train, X_dev, Y_dev):\n",
    "        train_cost = 0\n",
    "        dev_cost = 0\n",
    "        for epoch in range(self.epochs):\n",
    "            A, Z = self.forward_prop(X_train, True)\n",
    "            train_cost = self.compute_cost(Y_train, A[-1])\n",
    "            grads = self.back_prop(X_train, Y_train, A, Z)\n",
    "            self.update_params(grads, epoch + 1)\n",
    "            self.train_costs.append(train_cost)\n",
    "\n",
    "            Ad, _ = self.forward_prop(X_dev)\n",
    "            dev_cost = self.compute_cost(Y_dev, Ad[-1])\n",
    "            self.dev_costs.append(dev_cost)\n",
    "            \n",
    "            if epoch % 100 == 0:\n",
    "                print(f\"Cost at epoch {epoch} is: Train: {train_cost}, Dev: {dev_cost}\")\n",
    "        print(f\"Final cost is: Train: {train_cost}, Dev: {dev_cost}\")        \n",
    "        plt.plot(self.train_costs, label = \"Train\")\n",
    "        plt.plot(self.dev_costs, label = \"Dev\")\n",
    "        plt.xlabel(\"epochs\")\n",
    "        plt.ylabel(\"cost\")\n",
    "        plt.legend()\n",
    "\n",
    "        A, Z = self.forward_prop(X_train)\n",
    "        Ad, _ = self.forward_prop(X_dev)\n",
    "        train_acc = np.sum((np.abs(Y_train - A[-1]) < 20)) / Y_train.shape[1]\n",
    "        dev_acc = np.sum((np.abs(Y_dev - Ad[-1]) < 20)) / Y_dev.shape[1]\n",
    "        print(f\"The accuracy on train set is : {train_acc * 100:.2f} %\")\n",
    "        print(f\"The accuracy on dev set is : {dev_acc * 100: .2f} %\")\n",
    "        \n",
    "    \n",
    "    def update_params(self, grads, t):\n",
    "        # Correction for moving averages\n",
    "        self.v_corrected = {}            \n",
    "        self.s_corrected = {} \n",
    "        for i in range(1, len(self.layer_sizes)):\n",
    "            self.v[\"dW\" + str(i)] = self.beta1 * self.v[\"dW\" + str(i)] + (1 - self.beta1) * grads[\"dW\" + str(i)]\n",
    "            self.v[\"db\" + str(i)] = self.beta1 * self.v[\"db\" + str(i)] + (1 - self.beta1) * grads[\"db\" + str(i)]   \n",
    "            \n",
    "            # Bias correction\n",
    "            self.v_corrected[\"dW\" + str(i)] = self.v[\"dW\" + str(i)] / (1 - self.beta1 ** t)\n",
    "            self.v_corrected[\"db\" + str(i)] = self.v[\"db\" + str(i)] / (1 - self.beta1 ** t)\n",
    "            \n",
    "            # Almost same stuff as v, just with square\n",
    "            self.s[\"dW\" + str(i)] = self.beta2 * self.s[\"dW\" + str(i)] + (1 - self.beta2) * (grads[\"dW\" + str(i)] ** 2)\n",
    "            self.s[\"db\" + str(i)] = self.beta2 * self.s[\"db\" + str(i)] + (1 - self.beta2) * (grads[\"db\" + str(i)] ** 2) \n",
    "            \n",
    "            self.s_corrected[\"dW\" + str(i)] = self.s[\"dW\" + str(i)] / (1 - self.beta2 ** t)\n",
    "            self.s_corrected[\"db\" + str(i)] = self.s[\"db\" + str(i)] / (1 - self.beta2 ** t)\n",
    "            \n",
    "            self.params['W' + str(i)] -= self.learning_rate * (self.v_corrected['dW' + str(i)] / np.sqrt(self.s_corrected['dW' + str(i)] + self.epsilon))\n",
    "            self.params['b' + str(i)] -= self.learning_rate * (self.v_corrected['db' + str(i)] / np.sqrt(self.s_corrected['db' + str(i)] + self.epsilon))\n",
    "            \n",
    "            \n",
    "    def test(self, X, Y):\n",
    "        A, _ = self.forward_prop(X)\n",
    "        cost = self.compute_cost(Y, A[-1])\n",
    "        print(f\"The cost on test set is {cost}\")\n",
    "        test_acc = np.sum((np.abs(Y - A[-1]) < 20)) / Y.shape[1]\n",
    "        print(f\"The accuracy on test set is : {test_acc * 100:.2f} %\")\n",
    "        \n",
    "        return\n",
    "        \n",
    "        \n",
    "    def predict(self, X):\n",
    "        A, _ = self.forward_prop(X)\n",
    "        return A[-1]\n",
    "       "
   ]
  },
  {
   "cell_type": "markdown",
   "id": "2a57a67d-466f-4925-ac73-9a674329058c",
   "metadata": {},
   "source": [
    "## Testing the Model\n",
    "The following cell shows that my model works perfectly, and it is able to reduce costs."
   ]
  },
  {
   "cell_type": "code",
   "execution_count": 32,
   "id": "b844c58b-30ca-4489-ae04-683bdbbbc6db",
   "metadata": {},
   "outputs": [
    {
     "name": "stdout",
     "output_type": "stream",
     "text": [
      "Cost at epoch 0 is: Train: 19.916075467749998, Dev: 19.85372705120835\n",
      "Cost at epoch 1000 is: Train: 0.0014719275201193018, Dev: 0.0014565801878199964\n",
      "Cost at epoch 2000 is: Train: 1.6609036200187882e-10, Dev: 1.6244499411329144e-10\n",
      "Cost at epoch 3000 is: Train: 4.000057157182799e-24, Dev: 3.831741695326365e-24\n",
      "Cost at epoch 4000 is: Train: 1.2466960530886566e-29, Dev: 1.2466960530886566e-29\n",
      "Cost at epoch 5000 is: Train: 3.702715873881124e-30, Dev: 3.702715873881124e-30\n",
      "Cost at epoch 6000 is: Train: 8.707052241376918e-31, Dev: 8.707052241376918e-31\n",
      "Cost at epoch 7000 is: Train: 4.328874217400302e-31, Dev: 4.328874217400302e-31\n",
      "Cost at epoch 8000 is: Train: 2.987810678524582e-31, Dev: 2.987810678524582e-31\n",
      "Cost at epoch 9000 is: Train: 2.1595067280425198e-31, Dev: 2.1595067280425198e-31\n",
      "Final cost is: Train: 2.6821270777514403e-31, Dev: 2.6821270777514403e-31\n",
      "The accuracy on train set is : 100.00 %\n",
      "The accuracy on dev set is :  100.00 %\n"
     ]
    },
    {
     "data": {
      "image/png": "[encoded data removed]",
      "text/plain": [
       "<Figure size 640x480 with 1 Axes>"
      ]
     },
     "metadata": {},
     "output_type": "display_data"
    }
   ],
   "source": [
    "# Generate synthetic data\n",
    "X_train = np.random.rand(1, 100)\n",
    "Y_train = 6 * X_train + 3\n",
    "\n",
    "# Create and train the neural network\n",
    "model = Neural_network(layer_sizes=[1, 3, 1], layer_activations=['relu', 'linear'], learning_rate=0.01, epochs=10000)\n",
    "costs = model.fit(X_train, Y_train, X_train, Y_train)\n",
    "\n",
    "# Test the model\n",
    "X_test = np.array([[0.5]])\n",
    "predicted_y = model.predict(X_test)\n",
    "print(predicted_y)"
   ]
  },
  {
   "cell_type": "markdown",
   "id": "954f1c37-74c8-4520-a958-1a116aede4fe",
   "metadata": {},
   "source": [
    "## Load the Data"
   ]
  },
  {
   "cell_type": "code",
   "execution_count": 152,
   "id": "c060df82",
   "metadata": {},
   "outputs": [
    {
     "data": {
      "text/html": [
       "<div>\n",
       "<style scoped>\n",
       "    .dataframe tbody tr th:only-of-type {\n",
       "        vertical-align: middle;\n",
       "    }\n",
       "\n",
       "    .dataframe tbody tr th {\n",
       "        vertical-align: top;\n",
       "    }\n",
       "\n",
       "    .dataframe thead th {\n",
       "        text-align: right;\n",
       "    }\n",
       "</style>\n",
       "<table border=\"1\" class=\"dataframe\">\n",
       "  <thead>\n",
       "    <tr style=\"text-align: right;\">\n",
       "      <th></th>\n",
       "      <th>total balls</th>\n",
       "      <th>score</th>\n",
       "      <th>Total Wickets</th>\n",
       "      <th>final score</th>\n",
       "      <th>Afghanistan</th>\n",
       "      <th>Argentina</th>\n",
       "      <th>Australia</th>\n",
       "      <th>Austria</th>\n",
       "      <th>Bahamas</th>\n",
       "      <th>Bahrain</th>\n",
       "      <th>...</th>\n",
       "      <th>Switzerland</th>\n",
       "      <th>Tanzania</th>\n",
       "      <th>Thailand</th>\n",
       "      <th>Turkey</th>\n",
       "      <th>Uganda</th>\n",
       "      <th>United Arab Emirates</th>\n",
       "      <th>United States of America</th>\n",
       "      <th>Vanuatu</th>\n",
       "      <th>West Indies</th>\n",
       "      <th>Zimbabwe</th>\n",
       "    </tr>\n",
       "  </thead>\n",
       "  <tbody>\n",
       "    <tr>\n",
       "      <th>0</th>\n",
       "      <td>0</td>\n",
       "      <td>0</td>\n",
       "      <td>0</td>\n",
       "      <td>121</td>\n",
       "      <td>0</td>\n",
       "      <td>0</td>\n",
       "      <td>0</td>\n",
       "      <td>1</td>\n",
       "      <td>0</td>\n",
       "      <td>0</td>\n",
       "      <td>...</td>\n",
       "      <td>0</td>\n",
       "      <td>0</td>\n",
       "      <td>0</td>\n",
       "      <td>0</td>\n",
       "      <td>0</td>\n",
       "      <td>0</td>\n",
       "      <td>0</td>\n",
       "      <td>0</td>\n",
       "      <td>0</td>\n",
       "      <td>0</td>\n",
       "    </tr>\n",
       "    <tr>\n",
       "      <th>1</th>\n",
       "      <td>1</td>\n",
       "      <td>4</td>\n",
       "      <td>0</td>\n",
       "      <td>121</td>\n",
       "      <td>0</td>\n",
       "      <td>0</td>\n",
       "      <td>0</td>\n",
       "      <td>1</td>\n",
       "      <td>0</td>\n",
       "      <td>0</td>\n",
       "      <td>...</td>\n",
       "      <td>0</td>\n",
       "      <td>0</td>\n",
       "      <td>0</td>\n",
       "      <td>0</td>\n",
       "      <td>0</td>\n",
       "      <td>0</td>\n",
       "      <td>0</td>\n",
       "      <td>0</td>\n",
       "      <td>0</td>\n",
       "      <td>0</td>\n",
       "    </tr>\n",
       "    <tr>\n",
       "      <th>2</th>\n",
       "      <td>2</td>\n",
       "      <td>4</td>\n",
       "      <td>0</td>\n",
       "      <td>121</td>\n",
       "      <td>0</td>\n",
       "      <td>0</td>\n",
       "      <td>0</td>\n",
       "      <td>1</td>\n",
       "      <td>0</td>\n",
       "      <td>0</td>\n",
       "      <td>...</td>\n",
       "      <td>0</td>\n",
       "      <td>0</td>\n",
       "      <td>0</td>\n",
       "      <td>0</td>\n",
       "      <td>0</td>\n",
       "      <td>0</td>\n",
       "      <td>0</td>\n",
       "      <td>0</td>\n",
       "      <td>0</td>\n",
       "      <td>0</td>\n",
       "    </tr>\n",
       "    <tr>\n",
       "      <th>3</th>\n",
       "      <td>3</td>\n",
       "      <td>4</td>\n",
       "      <td>0</td>\n",
       "      <td>121</td>\n",
       "      <td>0</td>\n",
       "      <td>0</td>\n",
       "      <td>0</td>\n",
       "      <td>1</td>\n",
       "      <td>0</td>\n",
       "      <td>0</td>\n",
       "      <td>...</td>\n",
       "      <td>0</td>\n",
       "      <td>0</td>\n",
       "      <td>0</td>\n",
       "      <td>0</td>\n",
       "      <td>0</td>\n",
       "      <td>0</td>\n",
       "      <td>0</td>\n",
       "      <td>0</td>\n",
       "      <td>0</td>\n",
       "      <td>0</td>\n",
       "    </tr>\n",
       "    <tr>\n",
       "      <th>4</th>\n",
       "      <td>4</td>\n",
       "      <td>5</td>\n",
       "      <td>0</td>\n",
       "      <td>121</td>\n",
       "      <td>0</td>\n",
       "      <td>0</td>\n",
       "      <td>0</td>\n",
       "      <td>1</td>\n",
       "      <td>0</td>\n",
       "      <td>0</td>\n",
       "      <td>...</td>\n",
       "      <td>0</td>\n",
       "      <td>0</td>\n",
       "      <td>0</td>\n",
       "      <td>0</td>\n",
       "      <td>0</td>\n",
       "      <td>0</td>\n",
       "      <td>0</td>\n",
       "      <td>0</td>\n",
       "      <td>0</td>\n",
       "      <td>0</td>\n",
       "    </tr>\n",
       "  </tbody>\n",
       "</table>\n",
       "<p>5 rows × 99 columns</p>\n",
       "</div>"
      ],
      "text/plain": [
       "   total balls  score  Total Wickets  final score  Afghanistan  Argentina  \\\n",
       "0            0      0              0          121            0          0   \n",
       "1            1      4              0          121            0          0   \n",
       "2            2      4              0          121            0          0   \n",
       "3            3      4              0          121            0          0   \n",
       "4            4      5              0          121            0          0   \n",
       "\n",
       "   Australia  Austria  Bahamas  Bahrain  ...  Switzerland  Tanzania  Thailand  \\\n",
       "0          0        1        0        0  ...            0         0         0   \n",
       "1          0        1        0        0  ...            0         0         0   \n",
       "2          0        1        0        0  ...            0         0         0   \n",
       "3          0        1        0        0  ...            0         0         0   \n",
       "4          0        1        0        0  ...            0         0         0   \n",
       "\n",
       "   Turkey  Uganda  United Arab Emirates  United States of America  Vanuatu  \\\n",
       "0       0       0                     0                         0        0   \n",
       "1       0       0                     0                         0        0   \n",
       "2       0       0                     0                         0        0   \n",
       "3       0       0                     0                         0        0   \n",
       "4       0       0                     0                         0        0   \n",
       "\n",
       "   West Indies  Zimbabwe  \n",
       "0            0         0  \n",
       "1            0         0  \n",
       "2            0         0  \n",
       "3            0         0  \n",
       "4            0         0  \n",
       "\n",
       "[5 rows x 99 columns]"
      ]
     },
     "execution_count": 152,
     "metadata": {},
     "output_type": "execute_result"
    }
   ],
   "source": [
    "# Read the match data csv\n",
    "match_data = pd.read_csv(r\"../Resources/final_score_data.csv\")\n",
    "match_data.head()"
   ]
  },
  {
   "cell_type": "code",
   "execution_count": 153,
   "id": "dd372d78-8fd4-47a6-9c17-45c0123c1998",
   "metadata": {},
   "outputs": [
    {
     "name": "stdout",
     "output_type": "stream",
     "text": [
      "95\n"
     ]
    }
   ],
   "source": [
    "country_list = ['Afghanistan', 'Argentina', 'Australia', 'Austria', 'Bahamas', 'Bahrain', 'Bangladesh', 'Belgium', 'Belize', 'Bermuda', 'Bhutan', 'Botswana', 'Bulgaria', 'Cameroon', 'Canada', 'Cayman Islands', 'Cook Islands', 'Croatia', 'Cyprus', 'Czech Republic', 'Denmark', 'England', 'Estonia', 'Eswatini', 'Fiji', 'Finland', 'France', 'Gambia', 'Germany', 'Ghana', 'Gibraltar', 'Greece', 'Guernsey', 'Hong Kong', 'Hungary', 'ICC World XI', 'India', 'Indonesia', 'Iran', 'Ireland', 'Isle of Man', 'Israel', 'Italy', 'Japan', 'Jersey', 'Kenya', 'Kuwait', 'Lesotho', 'Luxembourg', 'Malawi', 'Malaysia', 'Maldives', 'Mali', 'Malta', 'Mozambique', 'Namibia', 'Nepal', 'Netherlands', 'New Zealand', 'Nigeria', 'Norway', 'Oman', 'Pakistan', 'Panama', 'Papua New Guinea', 'Philippines', 'Portugal', 'Qatar', 'Romania', 'Rwanda', 'Samoa', 'Saudi Arabia', 'Scotland', 'Serbia', 'Seychelles', 'Sierra Leone', 'Singapore', 'Slovenia', 'South Africa', 'South Korea', 'Spain', 'Sri Lanka', 'St Helena', 'Swaziland', 'Sweden', 'Switzerland', 'Tanzania', 'Thailand', 'Turkey', 'Uganda', 'United Arab Emirates', 'United States of America', 'Vanuatu', 'West Indies', 'Zimbabwe']\n",
    "\n",
    "print(len(country_list))\n",
    "def one_hot(target_country):\n",
    "    '''\n",
    "    This function takes a country, and returns a one hot encoded np array\n",
    "    '''\n",
    "    one_hot_encoded = [int(country == target_country) for country in country_list]\n",
    "    return np.array(one_hot_encoded)\n"
   ]
  },
  {
   "cell_type": "markdown",
   "id": "9c6cba81-6ac6-4648-84aa-4c203b830f0a",
   "metadata": {},
   "source": [
    "# Training the model\n",
    "Now I convert the relevant data into numpy arrays, divide it into train, dev and test sets in a ratio of 96/2/2 (since I have a lot of data), and feed them into a model. My first model is a simple linear regression model so that I can set the baseline for accuracy."
   ]
  },
  {
   "cell_type": "code",
   "execution_count": 154,
   "id": "a3afb3cd",
   "metadata": {},
   "outputs": [
    {
     "name": "stdout",
     "output_type": "stream",
     "text": [
      "(98, 407789)\n",
      "(1, 407789)\n"
     ]
    }
   ],
   "source": [
    "# Specify the X and Y labels\n",
    "Y = match_data[[\"final score\"]].to_numpy()\n",
    "match_data = match_data.drop(columns=[\"final score\"])\n",
    "X = match_data.to_numpy()\n",
    "scaler = sklearn.preprocessing.MinMaxScaler()\n",
    "X = scaler.fit_transform(X)\n",
    "X = X.T\n",
    "Y = Y.T\n",
    "print(X.shape)\n",
    "print(Y.shape)"
   ]
  },
  {
   "cell_type": "code",
   "execution_count": 155,
   "id": "0d913314",
   "metadata": {},
   "outputs": [],
   "source": [
    "# Split into train/dev and test sets\n",
    "train_ratio = 0.96\n",
    "dev_ratio = 0.02\n",
    "# Test and dev ratio are same\n",
    "\n",
    "total_examples = X.shape[1]\n",
    "train_size = int(train_ratio * total_examples)\n",
    "dev_size = int(dev_ratio * total_examples)\n",
    "\n",
    "\n",
    "# Shuffle the arrays\n",
    "indices = np.random.permutation(total_examples)\n",
    "X, Y = X[:,indices], Y[:,indices]\n",
    "#X, Y = X[indices], Y[indices]\n",
    "\n",
    "# Finally, split the data\n",
    "X_train, X_dev, X_test = X[:,:train_size], X[:,train_size:train_size + dev_size], X[:, train_size + dev_size:]\n",
    "Y_train, Y_dev, Y_test = Y[:,:train_size], Y[:,train_size:train_size + dev_size], Y[:, train_size + dev_size:]\n",
    "#X_train, X_dev, X_test = X[:train_size], X[train_size:train_size + dev_size], X[train_size + dev_size:]\n",
    "#Y_train, Y_dev, Y_test = Y[:train_size], Y[train_size:train_size + dev_size], Y[train_size + dev_size:]\n",
    "\n"
   ]
  },
  {
   "cell_type": "code",
   "execution_count": 84,
   "id": "24d676ca",
   "metadata": {},
   "outputs": [
    {
     "name": "stdout",
     "output_type": "stream",
     "text": [
      "Cost at epoch 0 is: Train: 11327.306827903501, Dev: 6436.541994951683\n",
      "Cost at epoch 100 is: Train: 1647.4809683955255, Dev: 1614.749147022662\n",
      "Final cost is: Train: 840.1074563296136, Dev: 819.8367362718022\n",
      "The accuracy on train set is : 40.54 %\n",
      "The accuracy on dev set is :  41.08 %\n",
      "The cost on test set is 826.7796253612383\n",
      "The accuracy on test set is : 40.60 %\n"
     ]
    },
    {
     "data": {
      "image/png": "[encoded data removed]",
      "text/plain": [
       "<Figure size 640x480 with 1 Axes>"
      ]
     },
     "metadata": {},
     "output_type": "display_data"
    }
   ],
   "source": [
    "# Now create and train the model\n",
    "final_score_predictor = Neural_network(layer_sizes=[98, 1], layer_activations=['linear'], \n",
    "                                      learning_rate = 0.3, epochs = 200)\n",
    "\n",
    "final_score_predictor.fit(X_train, Y_train, X_dev, Y_dev)\n",
    "final_score_predictor.test(X_test, Y_test)"
   ]
  },
  {
   "cell_type": "code",
   "execution_count": 90,
   "id": "9cc55462-b193-491d-9968-0f54beeadfc3",
   "metadata": {},
   "outputs": [
    {
     "name": "stdout",
     "output_type": "stream",
     "text": [
      "Cost at epoch 0 is: Train: 351.739677564767, Dev: 353.819978693361\n",
      "Cost at epoch 100 is: Train: 351.739317471744, Dev: 353.82114811508325\n",
      "Cost at epoch 200 is: Train: 351.7387218389813, Dev: 353.8231414951013\n",
      "Final cost is: Train: 351.7379844903665, Dev: 353.8257023988222\n",
      "The accuracy on train set is : 63.79 %\n",
      "The accuracy on dev set is :  63.08 %\n",
      "The cost on test set is 350.8747923460027\n",
      "The accuracy on test set is : 64.34 %\n"
     ]
    },
    {
     "data": {
      "image/png": "[encoded data removed]",
      "text/plain": [
       "<Figure size 640x480 with 1 Axes>"
      ]
     },
     "metadata": {},
     "output_type": "display_data"
    }
   ],
   "source": [
    "# Train the model more to make fine adjustments\n",
    "final_score_predictor.learning_rate = 0.01\n",
    "final_score_predictor.epochs = 300\n",
    "final_score_predictor.fit(X_train, Y_train, X_dev, Y_dev)\n",
    "final_score_predictor.test(X_test, Y_test)"
   ]
  },
  {
   "cell_type": "markdown",
   "id": "bcc20ded-c738-4204-8b85-3704a2262146",
   "metadata": {},
   "source": [
    "### Result\n",
    "So I got an accuracy of about 64% on the linear model, Let's try a slightly more complex model"
   ]
  },
  {
   "cell_type": "code",
   "execution_count": 168,
   "id": "6dcade0c",
   "metadata": {},
   "outputs": [
    {
     "name": "stdout",
     "output_type": "stream",
     "text": [
      "Cost at epoch 0 is: Train: 11067.782512127149, Dev: 11085.122920547286\n",
      "Cost at epoch 100 is: Train: 11017.845846302484, Dev: 11031.157870674508\n",
      "Final cost is: Train: 803.6098995010076, Dev: 808.5176583168471\n",
      "The accuracy on train set is : 38.27 %\n",
      "The accuracy on dev set is :  37.67 %\n",
      "The cost on test set is 805.4157240494841\n",
      "The accuracy on test set is : 37.97 %\n"
     ]
    },
    {
     "data": {
      "image/png": "[encoded data removed]",
      "text/plain": [
       "<Figure size 640x480 with 1 Axes>"
      ]
     },
     "metadata": {},
     "output_type": "display_data"
    }
   ],
   "source": [
    "# Training model no 2\n",
    "final_score_predictor2 = Neural_network(layer_sizes=[98,75,50,25,12,6,5,4,1], layer_activations=['relu','relu','relu','relu','relu','relu','relu','linear'], \n",
    "                                      learning_rate = 0.001, epochs = 200, dropout = 1)\n",
    "\n",
    "final_score_predictor2.fit(X_train, Y_train, X_dev, Y_dev)\n",
    "final_score_predictor2.test(X_test, Y_test)"
   ]
  },
  {
   "cell_type": "code",
   "execution_count": null,
   "id": "c1ea01a4-ac81-451e-a95c-1fc002d3ab48",
   "metadata": {},
   "outputs": [
    {
     "name": "stdout",
     "output_type": "stream",
     "text": [
      "Cost at epoch 0 is: Train: 798.0499463476168, Dev: 804.9976461275214\n"
     ]
    }
   ],
   "source": [
    "# Train the model more to make fine adjustments\n",
    "final_score_predictor2.learning_rate = 0.001\n",
    "final_score_predictor2.epochs = 100\n",
    "final_score_predictor2.fit(X_train, Y_train, X_dev, Y_dev)\n",
    "final_score_predictor2.test(X_test, Y_test)"
   ]
  },
  {
   "cell_type": "code",
   "execution_count": 121,
   "id": "d06b7235-3db1-46f6-80ad-819a5e82459b",
   "metadata": {},
   "outputs": [
    {
     "data": {
      "text/plain": [
       "0.5043060296920086"
      ]
     },
     "execution_count": 121,
     "metadata": {},
     "output_type": "execute_result"
    }
   ],
   "source": [
    "r2_score(Y_test.T, final_score_predictor2.predict(X_test).T)"
   ]
  },
  {
   "cell_type": "code",
   "execution_count": 151,
   "id": "86e4a31c-186c-43f3-94d8-7f5f8f4a4435",
   "metadata": {},
   "outputs": [
    {
     "ename": "ValueError",
     "evalue": "X has 1 features, but MinMaxScaler is expecting 407789 features as input.",
     "output_type": "error",
     "traceback": [
      "\u001b[1;31m---------------------------------------------------------------------------\u001b[0m",
      "\u001b[1;31mValueError\u001b[0m                                Traceback (most recent call last)",
      "Cell \u001b[1;32mIn[151], line 1\u001b[0m\n\u001b[1;32m----> 1\u001b[0m predicted_score \u001b[38;5;241m=\u001b[39m \u001b[38;5;28mround\u001b[39m(\u001b[38;5;28mfloat\u001b[39m(final_score_predictor2\u001b[38;5;241m.\u001b[39mpredict(\u001b[43mscaler\u001b[49m\u001b[38;5;241;43m.\u001b[39;49m\u001b[43mtransform\u001b[49m\u001b[43m(\u001b[49m\u001b[43mnp\u001b[49m\u001b[38;5;241;43m.\u001b[39;49m\u001b[43mconcatenate\u001b[49m\u001b[43m(\u001b[49m\u001b[43m[\u001b[49m\u001b[43m[\u001b[49m\u001b[38;5;241;43m114\u001b[39;49m\u001b[43m,\u001b[49m\u001b[38;5;241;43m80\u001b[39;49m\u001b[43m,\u001b[49m\u001b[38;5;241;43m5\u001b[39;49m\u001b[43m]\u001b[49m\u001b[43m,\u001b[49m\u001b[43mone_hot\u001b[49m\u001b[43m(\u001b[49m\u001b[38;5;124;43m\"\u001b[39;49m\u001b[38;5;124;43mPakistan\u001b[39;49m\u001b[38;5;124;43m\"\u001b[39;49m\u001b[43m)\u001b[49m\u001b[43m]\u001b[49m\u001b[43m)\u001b[49m\u001b[38;5;241;43m.\u001b[39;49m\u001b[43mreshape\u001b[49m\u001b[43m(\u001b[49m\u001b[38;5;241;43m-\u001b[39;49m\u001b[38;5;241;43m1\u001b[39;49m\u001b[43m,\u001b[49m\u001b[43m \u001b[49m\u001b[38;5;241;43m1\u001b[39;49m\u001b[43m)\u001b[49m\u001b[43m)\u001b[49m)))\n\u001b[0;32m      2\u001b[0m \u001b[38;5;28mprint\u001b[39m(\u001b[38;5;124mf\u001b[39m\u001b[38;5;124m\"\u001b[39m\u001b[38;5;124mThe model predicts a final score of \u001b[39m\u001b[38;5;132;01m{\u001b[39;00mpredicted_score\u001b[38;5;132;01m}\u001b[39;00m\u001b[38;5;124m\"\u001b[39m)\n",
      "File \u001b[1;32m~\\AppData\\Local\\Programs\\Python\\Python39\\lib\\site-packages\\sklearn\\utils\\_set_output.py:140\u001b[0m, in \u001b[0;36m_wrap_method_output.<locals>.wrapped\u001b[1;34m(self, X, *args, **kwargs)\u001b[0m\n\u001b[0;32m    138\u001b[0m \u001b[38;5;129m@wraps\u001b[39m(f)\n\u001b[0;32m    139\u001b[0m \u001b[38;5;28;01mdef\u001b[39;00m \u001b[38;5;21mwrapped\u001b[39m(\u001b[38;5;28mself\u001b[39m, X, \u001b[38;5;241m*\u001b[39margs, \u001b[38;5;241m*\u001b[39m\u001b[38;5;241m*\u001b[39mkwargs):\n\u001b[1;32m--> 140\u001b[0m     data_to_wrap \u001b[38;5;241m=\u001b[39m f(\u001b[38;5;28mself\u001b[39m, X, \u001b[38;5;241m*\u001b[39margs, \u001b[38;5;241m*\u001b[39m\u001b[38;5;241m*\u001b[39mkwargs)\n\u001b[0;32m    141\u001b[0m     \u001b[38;5;28;01mif\u001b[39;00m \u001b[38;5;28misinstance\u001b[39m(data_to_wrap, \u001b[38;5;28mtuple\u001b[39m):\n\u001b[0;32m    142\u001b[0m         \u001b[38;5;66;03m# only wrap the first output for cross decomposition\u001b[39;00m\n\u001b[0;32m    143\u001b[0m         return_tuple \u001b[38;5;241m=\u001b[39m (\n\u001b[0;32m    144\u001b[0m             _wrap_data_with_container(method, data_to_wrap[\u001b[38;5;241m0\u001b[39m], X, \u001b[38;5;28mself\u001b[39m),\n\u001b[0;32m    145\u001b[0m             \u001b[38;5;241m*\u001b[39mdata_to_wrap[\u001b[38;5;241m1\u001b[39m:],\n\u001b[0;32m    146\u001b[0m         )\n",
      "File \u001b[1;32m~\\AppData\\Local\\Programs\\Python\\Python39\\lib\\site-packages\\sklearn\\preprocessing\\_data.py:514\u001b[0m, in \u001b[0;36mMinMaxScaler.transform\u001b[1;34m(self, X)\u001b[0m\n\u001b[0;32m    500\u001b[0m \u001b[38;5;250m\u001b[39m\u001b[38;5;124;03m\"\"\"Scale features of X according to feature_range.\u001b[39;00m\n\u001b[0;32m    501\u001b[0m \n\u001b[0;32m    502\u001b[0m \u001b[38;5;124;03mParameters\u001b[39;00m\n\u001b[1;32m   (...)\u001b[0m\n\u001b[0;32m    510\u001b[0m \u001b[38;5;124;03m    Transformed data.\u001b[39;00m\n\u001b[0;32m    511\u001b[0m \u001b[38;5;124;03m\"\"\"\u001b[39;00m\n\u001b[0;32m    512\u001b[0m check_is_fitted(\u001b[38;5;28mself\u001b[39m)\n\u001b[1;32m--> 514\u001b[0m X \u001b[38;5;241m=\u001b[39m \u001b[38;5;28;43mself\u001b[39;49m\u001b[38;5;241;43m.\u001b[39;49m\u001b[43m_validate_data\u001b[49m\u001b[43m(\u001b[49m\n\u001b[0;32m    515\u001b[0m \u001b[43m    \u001b[49m\u001b[43mX\u001b[49m\u001b[43m,\u001b[49m\n\u001b[0;32m    516\u001b[0m \u001b[43m    \u001b[49m\u001b[43mcopy\u001b[49m\u001b[38;5;241;43m=\u001b[39;49m\u001b[38;5;28;43mself\u001b[39;49m\u001b[38;5;241;43m.\u001b[39;49m\u001b[43mcopy\u001b[49m\u001b[43m,\u001b[49m\n\u001b[0;32m    517\u001b[0m \u001b[43m    \u001b[49m\u001b[43mdtype\u001b[49m\u001b[38;5;241;43m=\u001b[39;49m\u001b[43mFLOAT_DTYPES\u001b[49m\u001b[43m,\u001b[49m\n\u001b[0;32m    518\u001b[0m \u001b[43m    \u001b[49m\u001b[43mforce_all_finite\u001b[49m\u001b[38;5;241;43m=\u001b[39;49m\u001b[38;5;124;43m\"\u001b[39;49m\u001b[38;5;124;43mallow-nan\u001b[39;49m\u001b[38;5;124;43m\"\u001b[39;49m\u001b[43m,\u001b[49m\n\u001b[0;32m    519\u001b[0m \u001b[43m    \u001b[49m\u001b[43mreset\u001b[49m\u001b[38;5;241;43m=\u001b[39;49m\u001b[38;5;28;43;01mFalse\u001b[39;49;00m\u001b[43m,\u001b[49m\n\u001b[0;32m    520\u001b[0m \u001b[43m\u001b[49m\u001b[43m)\u001b[49m\n\u001b[0;32m    522\u001b[0m X \u001b[38;5;241m*\u001b[39m\u001b[38;5;241m=\u001b[39m \u001b[38;5;28mself\u001b[39m\u001b[38;5;241m.\u001b[39mscale_\n\u001b[0;32m    523\u001b[0m X \u001b[38;5;241m+\u001b[39m\u001b[38;5;241m=\u001b[39m \u001b[38;5;28mself\u001b[39m\u001b[38;5;241m.\u001b[39mmin_\n",
      "File \u001b[1;32m~\\AppData\\Local\\Programs\\Python\\Python39\\lib\\site-packages\\sklearn\\base.py:625\u001b[0m, in \u001b[0;36mBaseEstimator._validate_data\u001b[1;34m(self, X, y, reset, validate_separately, cast_to_ndarray, **check_params)\u001b[0m\n\u001b[0;32m    622\u001b[0m     out \u001b[38;5;241m=\u001b[39m X, y\n\u001b[0;32m    624\u001b[0m \u001b[38;5;28;01mif\u001b[39;00m \u001b[38;5;129;01mnot\u001b[39;00m no_val_X \u001b[38;5;129;01mand\u001b[39;00m check_params\u001b[38;5;241m.\u001b[39mget(\u001b[38;5;124m\"\u001b[39m\u001b[38;5;124mensure_2d\u001b[39m\u001b[38;5;124m\"\u001b[39m, \u001b[38;5;28;01mTrue\u001b[39;00m):\n\u001b[1;32m--> 625\u001b[0m     \u001b[38;5;28;43mself\u001b[39;49m\u001b[38;5;241;43m.\u001b[39;49m\u001b[43m_check_n_features\u001b[49m\u001b[43m(\u001b[49m\u001b[43mX\u001b[49m\u001b[43m,\u001b[49m\u001b[43m \u001b[49m\u001b[43mreset\u001b[49m\u001b[38;5;241;43m=\u001b[39;49m\u001b[43mreset\u001b[49m\u001b[43m)\u001b[49m\n\u001b[0;32m    627\u001b[0m \u001b[38;5;28;01mreturn\u001b[39;00m out\n",
      "File \u001b[1;32m~\\AppData\\Local\\Programs\\Python\\Python39\\lib\\site-packages\\sklearn\\base.py:414\u001b[0m, in \u001b[0;36mBaseEstimator._check_n_features\u001b[1;34m(self, X, reset)\u001b[0m\n\u001b[0;32m    411\u001b[0m     \u001b[38;5;28;01mreturn\u001b[39;00m\n\u001b[0;32m    413\u001b[0m \u001b[38;5;28;01mif\u001b[39;00m n_features \u001b[38;5;241m!=\u001b[39m \u001b[38;5;28mself\u001b[39m\u001b[38;5;241m.\u001b[39mn_features_in_:\n\u001b[1;32m--> 414\u001b[0m     \u001b[38;5;28;01mraise\u001b[39;00m \u001b[38;5;167;01mValueError\u001b[39;00m(\n\u001b[0;32m    415\u001b[0m         \u001b[38;5;124mf\u001b[39m\u001b[38;5;124m\"\u001b[39m\u001b[38;5;124mX has \u001b[39m\u001b[38;5;132;01m{\u001b[39;00mn_features\u001b[38;5;132;01m}\u001b[39;00m\u001b[38;5;124m features, but \u001b[39m\u001b[38;5;132;01m{\u001b[39;00m\u001b[38;5;28mself\u001b[39m\u001b[38;5;241m.\u001b[39m\u001b[38;5;18m__class__\u001b[39m\u001b[38;5;241m.\u001b[39m\u001b[38;5;18m__name__\u001b[39m\u001b[38;5;132;01m}\u001b[39;00m\u001b[38;5;124m \u001b[39m\u001b[38;5;124m\"\u001b[39m\n\u001b[0;32m    416\u001b[0m         \u001b[38;5;124mf\u001b[39m\u001b[38;5;124m\"\u001b[39m\u001b[38;5;124mis expecting \u001b[39m\u001b[38;5;132;01m{\u001b[39;00m\u001b[38;5;28mself\u001b[39m\u001b[38;5;241m.\u001b[39mn_features_in_\u001b[38;5;132;01m}\u001b[39;00m\u001b[38;5;124m features as input.\u001b[39m\u001b[38;5;124m\"\u001b[39m\n\u001b[0;32m    417\u001b[0m     )\n",
      "\u001b[1;31mValueError\u001b[0m: X has 1 features, but MinMaxScaler is expecting 407789 features as input."
     ]
    }
   ],
   "source": [
    "predicted_score = round(float(final_score_predictor2.predict(scaler.transform(np.concatenate([[114,80,5],one_hot(\"Pakistan\")])).reshape(-1, 1))))\n",
    "print(f\"The model predicts a final score of {predicted_score}\")"
   ]
  },
  {
   "cell_type": "code",
   "execution_count": null,
   "id": "9bbeaf34-fff7-493d-9b07-92772e174609",
   "metadata": {},
   "outputs": [],
   "source": []
  }
 ],
 "metadata": {
  "kernelspec": {
   "display_name": "Python 3 (ipykernel)",
   "language": "python",
   "name": "python3"
  },
  "language_info": {
   "codemirror_mode": {
    "name": "ipython",
    "version": 3
   },
   "file_extension": ".py",
   "mimetype": "text/x-python",
   "name": "python",
   "nbconvert_exporter": "python",
   "pygments_lexer": "ipython3",
   "version": "3.9.13"
  }
 },
 "nbformat": 4,
 "nbformat_minor": 5
}
